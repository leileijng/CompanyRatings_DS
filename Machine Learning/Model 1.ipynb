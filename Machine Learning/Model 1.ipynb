{
 "cells": [
  {
   "cell_type": "markdown",
   "id": "959cc901",
   "metadata": {},
   "source": [
    "---\n",
    "\n",
    "## Problem Definition\n",
    "\n",
    "Predict the performance of companies according to **`rating`** and **`work happiness score`**\n",
    "- Analyze the `importance` of features help in increasing work happiness score.\n",
    "- Find the factors affecting ratings across different `industries` to provide comprehensive improvement strategies\n",
    "- Detect the `anomalies` of ratings."
   ]
  },
  {
   "cell_type": "markdown",
   "id": "e2ca154f",
   "metadata": {},
   "source": [
    "---\n",
    "\n",
    "### Split Dataset into Train & Test\n",
    "Split the whole dataset into **`train`** and **`test`** datasets with the ratio 8 : 2.\n"
   ]
  },
  {
   "cell_type": "code",
   "execution_count": 2,
   "id": "7768aef0",
   "metadata": {},
   "outputs": [],
   "source": [
    "from sklearn.model_selection import train_test_split\n",
    "import pandas as pd\n",
    "df = pd.read_pickle('../dataset/data_prepare2.pickle')\n",
    "train, test = train_test_split(df, test_size = 0.2, random_state = 42, shuffle = False)\n",
    "train.to_excel('train.xlsx', index = False)\n",
    "test.to_excel('test.xlsx', index = False)"
   ]
  }
 ],
 "metadata": {
  "kernelspec": {
   "display_name": "Python 3 (ipykernel)",
   "language": "python",
   "name": "python3"
  },
  "language_info": {
   "codemirror_mode": {
    "name": "ipython",
    "version": 3
   },
   "file_extension": ".py",
   "mimetype": "text/x-python",
   "name": "python",
   "nbconvert_exporter": "python",
   "pygments_lexer": "ipython3",
   "version": "3.8.12"
  }
 },
 "nbformat": 4,
 "nbformat_minor": 5
}
