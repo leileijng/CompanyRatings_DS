{
 "cells": [
  {
   "cell_type": "markdown",
   "id": "959cc901",
   "metadata": {},
   "source": [
    "---\n",
    "\n",
    "## Problem Definition\n",
    "\n",
    "Predict the performance of companies according to **`rating`** and **`work happiness score`**\n",
    "- Analyze the `importance` of features help in increasing work happiness score.\n",
    "- Predict the `rating` of companies\n",
    "- Detect the `anomalies` of ratings."
   ]
  },
  {
   "cell_type": "code",
   "execution_count": 1,
   "id": "fdb4a2b2",
   "metadata": {},
   "outputs": [],
   "source": [
    "import matplotlib.pyplot as plt\n",
    "import pandas as pd\n",
    "import numpy as np\n",
    "import seaborn as sb"
   ]
  },
  {
   "cell_type": "code",
   "execution_count": 2,
   "id": "f4a758e2",
   "metadata": {},
   "outputs": [
    {
     "data": {
      "text/html": [
       "<div>\n",
       "<style scoped>\n",
       "    .dataframe tbody tr th:only-of-type {\n",
       "        vertical-align: middle;\n",
       "    }\n",
       "\n",
       "    .dataframe tbody tr th {\n",
       "        vertical-align: top;\n",
       "    }\n",
       "\n",
       "    .dataframe thead th {\n",
       "        text-align: right;\n",
       "    }\n",
       "</style>\n",
       "<table border=\"1\" class=\"dataframe\">\n",
       "  <thead>\n",
       "    <tr style=\"text-align: right;\">\n",
       "      <th></th>\n",
       "      <th>name</th>\n",
       "      <th>rating</th>\n",
       "      <th>reviews</th>\n",
       "      <th>ceo_approval</th>\n",
       "      <th>ceo_count</th>\n",
       "      <th>employees</th>\n",
       "      <th>industry</th>\n",
       "      <th>revenue</th>\n",
       "      <th>Work/Life Balance</th>\n",
       "      <th>Compensation/Benefits</th>\n",
       "      <th>Job Security/Advancement</th>\n",
       "      <th>Management</th>\n",
       "      <th>Culture</th>\n",
       "      <th>avg_salary</th>\n",
       "      <th>Work Happiness Score</th>\n",
       "      <th>industry_num</th>\n",
       "    </tr>\n",
       "  </thead>\n",
       "  <tbody>\n",
       "    <tr>\n",
       "      <th>1</th>\n",
       "      <td>Georgia Tech</td>\n",
       "      <td>4.2</td>\n",
       "      <td>803</td>\n",
       "      <td>83</td>\n",
       "      <td>275</td>\n",
       "      <td>8</td>\n",
       "      <td>Govt_Services</td>\n",
       "      <td>7</td>\n",
       "      <td>4.0</td>\n",
       "      <td>3.7</td>\n",
       "      <td>3.6</td>\n",
       "      <td>3.7</td>\n",
       "      <td>4.0</td>\n",
       "      <td>36279.933333</td>\n",
       "      <td>76</td>\n",
       "      <td>0</td>\n",
       "    </tr>\n",
       "    <tr>\n",
       "      <th>2</th>\n",
       "      <td>Georgetown University</td>\n",
       "      <td>4.1</td>\n",
       "      <td>501</td>\n",
       "      <td>89</td>\n",
       "      <td>181</td>\n",
       "      <td>8</td>\n",
       "      <td>Govt_Services</td>\n",
       "      <td>7</td>\n",
       "      <td>4.1</td>\n",
       "      <td>3.8</td>\n",
       "      <td>3.7</td>\n",
       "      <td>3.7</td>\n",
       "      <td>3.9</td>\n",
       "      <td>45855.000000</td>\n",
       "      <td>70</td>\n",
       "      <td>0</td>\n",
       "    </tr>\n",
       "    <tr>\n",
       "      <th>3</th>\n",
       "      <td>Benchmark Hospitality</td>\n",
       "      <td>3.9</td>\n",
       "      <td>167</td>\n",
       "      <td>90</td>\n",
       "      <td>79</td>\n",
       "      <td>8</td>\n",
       "      <td>Leisure</td>\n",
       "      <td>5</td>\n",
       "      <td>3.6</td>\n",
       "      <td>3.7</td>\n",
       "      <td>3.5</td>\n",
       "      <td>3.4</td>\n",
       "      <td>3.8</td>\n",
       "      <td>25590.933333</td>\n",
       "      <td>71</td>\n",
       "      <td>1</td>\n",
       "    </tr>\n",
       "    <tr>\n",
       "      <th>4</th>\n",
       "      <td>Support.com</td>\n",
       "      <td>2.7</td>\n",
       "      <td>541</td>\n",
       "      <td>41</td>\n",
       "      <td>233</td>\n",
       "      <td>7</td>\n",
       "      <td>Tech</td>\n",
       "      <td>4</td>\n",
       "      <td>2.8</td>\n",
       "      <td>2.5</td>\n",
       "      <td>2.2</td>\n",
       "      <td>2.5</td>\n",
       "      <td>2.6</td>\n",
       "      <td>22207.466667</td>\n",
       "      <td>45</td>\n",
       "      <td>2</td>\n",
       "    </tr>\n",
       "    <tr>\n",
       "      <th>5</th>\n",
       "      <td>Carter Lumber</td>\n",
       "      <td>3.2</td>\n",
       "      <td>271</td>\n",
       "      <td>58</td>\n",
       "      <td>117</td>\n",
       "      <td>7</td>\n",
       "      <td>Real_Estate</td>\n",
       "      <td>7</td>\n",
       "      <td>3.2</td>\n",
       "      <td>3.0</td>\n",
       "      <td>2.6</td>\n",
       "      <td>2.8</td>\n",
       "      <td>3.0</td>\n",
       "      <td>23400.000000</td>\n",
       "      <td>60</td>\n",
       "      <td>3</td>\n",
       "    </tr>\n",
       "  </tbody>\n",
       "</table>\n",
       "</div>"
      ],
      "text/plain": [
       "                    name  rating  reviews  ceo_approval  ceo_count  employees  \\\n",
       "1           Georgia Tech     4.2      803            83        275          8   \n",
       "2  Georgetown University     4.1      501            89        181          8   \n",
       "3  Benchmark Hospitality     3.9      167            90         79          8   \n",
       "4            Support.com     2.7      541            41        233          7   \n",
       "5          Carter Lumber     3.2      271            58        117          7   \n",
       "\n",
       "        industry  revenue  Work/Life Balance  Compensation/Benefits  \\\n",
       "1  Govt_Services        7                4.0                    3.7   \n",
       "2  Govt_Services        7                4.1                    3.8   \n",
       "3        Leisure        5                3.6                    3.7   \n",
       "4           Tech        4                2.8                    2.5   \n",
       "5    Real_Estate        7                3.2                    3.0   \n",
       "\n",
       "   Job Security/Advancement  Management  Culture    avg_salary  \\\n",
       "1                       3.6         3.7      4.0  36279.933333   \n",
       "2                       3.7         3.7      3.9  45855.000000   \n",
       "3                       3.5         3.4      3.8  25590.933333   \n",
       "4                       2.2         2.5      2.6  22207.466667   \n",
       "5                       2.6         2.8      3.0  23400.000000   \n",
       "\n",
       "   Work Happiness Score  industry_num  \n",
       "1                    76             0  \n",
       "2                    70             0  \n",
       "3                    71             1  \n",
       "4                    45             2  \n",
       "5                    60             3  "
      ]
     },
     "execution_count": 2,
     "metadata": {},
     "output_type": "execute_result"
    }
   ],
   "source": [
    "df = pd.read_pickle('../dataset/data_prepare2.pickle')\n",
    "def change_obj_cols(se):\n",
    "    value = se.unique().tolist()\n",
    "    return se.map(pd.Series(range(len(value)), index = value)).values\n",
    "\n",
    "df['industry_num'] = change_obj_cols(df['industry'])\n",
    "df = df.drop(['roles', 'salary'], axis=1)\n",
    "df.head()"
   ]
  },
  {
   "cell_type": "markdown",
   "id": "e3b161c6",
   "metadata": {},
   "source": [
    "---\n",
    "\n",
    "### Scale/Normalise Data "
   ]
  },
  {
   "cell_type": "code",
   "execution_count": 3,
   "id": "762e2c1c",
   "metadata": {},
   "outputs": [
    {
     "data": {
      "text/html": [
       "<div>\n",
       "<style scoped>\n",
       "    .dataframe tbody tr th:only-of-type {\n",
       "        vertical-align: middle;\n",
       "    }\n",
       "\n",
       "    .dataframe tbody tr th {\n",
       "        vertical-align: top;\n",
       "    }\n",
       "\n",
       "    .dataframe thead th {\n",
       "        text-align: right;\n",
       "    }\n",
       "</style>\n",
       "<table border=\"1\" class=\"dataframe\">\n",
       "  <thead>\n",
       "    <tr style=\"text-align: right;\">\n",
       "      <th></th>\n",
       "      <th>name</th>\n",
       "      <th>rating</th>\n",
       "      <th>reviews</th>\n",
       "      <th>ceo_approval</th>\n",
       "      <th>ceo_count</th>\n",
       "      <th>employees</th>\n",
       "      <th>industry</th>\n",
       "      <th>revenue</th>\n",
       "      <th>Work/Life Balance</th>\n",
       "      <th>Compensation/Benefits</th>\n",
       "      <th>Job Security/Advancement</th>\n",
       "      <th>Management</th>\n",
       "      <th>Culture</th>\n",
       "      <th>avg_salary</th>\n",
       "      <th>Work Happiness Score</th>\n",
       "      <th>industry_num</th>\n",
       "    </tr>\n",
       "  </thead>\n",
       "  <tbody>\n",
       "    <tr>\n",
       "      <th>1</th>\n",
       "      <td>Georgia Tech</td>\n",
       "      <td>4.2</td>\n",
       "      <td>0.003560</td>\n",
       "      <td>0.838384</td>\n",
       "      <td>0.002855</td>\n",
       "      <td>0.875</td>\n",
       "      <td>Govt_Services</td>\n",
       "      <td>0.750</td>\n",
       "      <td>0.750000</td>\n",
       "      <td>0.653846</td>\n",
       "      <td>0.642857</td>\n",
       "      <td>0.655172</td>\n",
       "      <td>0.758621</td>\n",
       "      <td>0.069626</td>\n",
       "      <td>0.714286</td>\n",
       "      <td>0.000000</td>\n",
       "    </tr>\n",
       "    <tr>\n",
       "      <th>2</th>\n",
       "      <td>Georgetown University</td>\n",
       "      <td>4.1</td>\n",
       "      <td>0.002158</td>\n",
       "      <td>0.898990</td>\n",
       "      <td>0.001879</td>\n",
       "      <td>0.875</td>\n",
       "      <td>Govt_Services</td>\n",
       "      <td>0.750</td>\n",
       "      <td>0.785714</td>\n",
       "      <td>0.692308</td>\n",
       "      <td>0.678571</td>\n",
       "      <td>0.655172</td>\n",
       "      <td>0.724138</td>\n",
       "      <td>0.103880</td>\n",
       "      <td>0.619048</td>\n",
       "      <td>0.000000</td>\n",
       "    </tr>\n",
       "    <tr>\n",
       "      <th>3</th>\n",
       "      <td>Benchmark Hospitality</td>\n",
       "      <td>3.9</td>\n",
       "      <td>0.000608</td>\n",
       "      <td>0.909091</td>\n",
       "      <td>0.000820</td>\n",
       "      <td>0.875</td>\n",
       "      <td>Leisure</td>\n",
       "      <td>0.500</td>\n",
       "      <td>0.607143</td>\n",
       "      <td>0.653846</td>\n",
       "      <td>0.607143</td>\n",
       "      <td>0.551724</td>\n",
       "      <td>0.689655</td>\n",
       "      <td>0.031388</td>\n",
       "      <td>0.634921</td>\n",
       "      <td>0.111111</td>\n",
       "    </tr>\n",
       "    <tr>\n",
       "      <th>4</th>\n",
       "      <td>Support.com</td>\n",
       "      <td>2.7</td>\n",
       "      <td>0.002344</td>\n",
       "      <td>0.414141</td>\n",
       "      <td>0.002419</td>\n",
       "      <td>0.750</td>\n",
       "      <td>Tech</td>\n",
       "      <td>0.375</td>\n",
       "      <td>0.321429</td>\n",
       "      <td>0.192308</td>\n",
       "      <td>0.142857</td>\n",
       "      <td>0.241379</td>\n",
       "      <td>0.275862</td>\n",
       "      <td>0.019284</td>\n",
       "      <td>0.222222</td>\n",
       "      <td>0.222222</td>\n",
       "    </tr>\n",
       "    <tr>\n",
       "      <th>5</th>\n",
       "      <td>Carter Lumber</td>\n",
       "      <td>3.2</td>\n",
       "      <td>0.001091</td>\n",
       "      <td>0.585859</td>\n",
       "      <td>0.001215</td>\n",
       "      <td>0.750</td>\n",
       "      <td>Real_Estate</td>\n",
       "      <td>0.750</td>\n",
       "      <td>0.464286</td>\n",
       "      <td>0.384615</td>\n",
       "      <td>0.285714</td>\n",
       "      <td>0.344828</td>\n",
       "      <td>0.413793</td>\n",
       "      <td>0.023550</td>\n",
       "      <td>0.460317</td>\n",
       "      <td>0.333333</td>\n",
       "    </tr>\n",
       "  </tbody>\n",
       "</table>\n",
       "</div>"
      ],
      "text/plain": [
       "                    name  rating   reviews  ceo_approval  ceo_count  \\\n",
       "1           Georgia Tech     4.2  0.003560      0.838384   0.002855   \n",
       "2  Georgetown University     4.1  0.002158      0.898990   0.001879   \n",
       "3  Benchmark Hospitality     3.9  0.000608      0.909091   0.000820   \n",
       "4            Support.com     2.7  0.002344      0.414141   0.002419   \n",
       "5          Carter Lumber     3.2  0.001091      0.585859   0.001215   \n",
       "\n",
       "   employees       industry  revenue  Work/Life Balance  \\\n",
       "1      0.875  Govt_Services    0.750           0.750000   \n",
       "2      0.875  Govt_Services    0.750           0.785714   \n",
       "3      0.875        Leisure    0.500           0.607143   \n",
       "4      0.750           Tech    0.375           0.321429   \n",
       "5      0.750    Real_Estate    0.750           0.464286   \n",
       "\n",
       "   Compensation/Benefits  Job Security/Advancement  Management   Culture  \\\n",
       "1               0.653846                  0.642857    0.655172  0.758621   \n",
       "2               0.692308                  0.678571    0.655172  0.724138   \n",
       "3               0.653846                  0.607143    0.551724  0.689655   \n",
       "4               0.192308                  0.142857    0.241379  0.275862   \n",
       "5               0.384615                  0.285714    0.344828  0.413793   \n",
       "\n",
       "   avg_salary  Work Happiness Score  industry_num  \n",
       "1    0.069626              0.714286      0.000000  \n",
       "2    0.103880              0.619048      0.000000  \n",
       "3    0.031388              0.634921      0.111111  \n",
       "4    0.019284              0.222222      0.222222  \n",
       "5    0.023550              0.460317      0.333333  "
      ]
     },
     "execution_count": 3,
     "metadata": {},
     "output_type": "execute_result"
    }
   ],
   "source": [
    "from sklearn import preprocessing\n",
    "\n",
    "cols = ['reviews', 'ceo_approval', 'ceo_count', 'employees', 'revenue', 'Work/Life Balance', 'Compensation/Benefits', \n",
    "       'Job Security/Advancement', 'Management', 'Culture', 'avg_salary', 'Work Happiness Score', 'industry_num']\n",
    "df[cols] = df[cols].apply(lambda x: (x - x.min()) / (x.max() - x.min()))\n",
    "df.head()"
   ]
  },
  {
   "cell_type": "markdown",
   "id": "1df8fdcd",
   "metadata": {},
   "source": [
    "### Split Dataset into Train & Test\n",
    "Split the whole dataset into **`train`** and **`test`** datasets with the ratio 8 : 2.\n"
   ]
  },
  {
   "cell_type": "code",
   "execution_count": 4,
   "id": "5a68e6a0",
   "metadata": {},
   "outputs": [],
   "source": [
    "from sklearn.model_selection import train_test_split\n",
    "from sklearn.metrics import mean_absolute_error\n",
    "\n",
    "train, test = train_test_split(df, test_size = 0.2, random_state = 42, shuffle = False)\n",
    "train.to_excel('../dataset/train.xlsx', index = False)\n",
    "test.to_excel('../dataset/test.xlsx', index = False)"
   ]
  },
  {
   "cell_type": "markdown",
   "id": "cf8fd2c1",
   "metadata": {},
   "source": [
    "---\n",
    "\n",
    "# Machine Learning Models\n",
    "1. Linear Regression to predict `Work Happiness Score` \n",
    "    - Basic Linear Regression \n",
    "    - OLS (stepwise) linear regression\n",
    "    - PCA \n",
    "2. Light GBM predicting `rating`"
   ]
  },
  {
   "cell_type": "markdown",
   "id": "208ec0c4",
   "metadata": {},
   "source": [
    "## Basic Linear Regression"
   ]
  },
  {
   "cell_type": "code",
   "execution_count": 5,
   "id": "4a387355",
   "metadata": {},
   "outputs": [],
   "source": [
    "# Import essential models and functions from sklearn\n",
    "from sklearn.linear_model import LinearRegression\n",
    "from sklearn.model_selection import train_test_split\n",
    "from sklearn.metrics import mean_squared_error"
   ]
  },
  {
   "cell_type": "code",
   "execution_count": 6,
   "id": "161206fb",
   "metadata": {},
   "outputs": [],
   "source": [
    "# import train/test set\n",
    "train = pd.read_excel(\"../dataset/train.xlsx\")\n",
    "test = pd.read_excel(\"../dataset/test.xlsx\")\n"
   ]
  },
  {
   "cell_type": "code",
   "execution_count": 7,
   "id": "2143fec7",
   "metadata": {},
   "outputs": [
    {
     "name": "stdout",
     "output_type": "stream",
     "text": [
      "Train Set : (2375, 9) (2375, 1)\n",
      "Test Set  : (594, 9) (594, 1)\n"
     ]
    }
   ],
   "source": [
    "# split sets into predictor and reponse sets\n",
    "train_Happiness_X = train.drop(columns = ['name', 'Work Happiness Score','rating','reviews','ceo_count', 'industry_num', 'industry'])\n",
    "train_Happiness_y = pd.DataFrame(train['Work Happiness Score'])\n",
    "\n",
    "test_Happiness_X = test.drop(columns = ['name', 'Work Happiness Score','rating','reviews','ceo_count', 'industry_num', 'industry'])\n",
    "test_Happiness_y = pd.DataFrame(test['Work Happiness Score'])\n",
    "\n",
    "print(\"Train Set :\", train_Happiness_X.shape, train_Happiness_y.shape)\n",
    "print(\"Test Set  :\", test_Happiness_X.shape, test_Happiness_y.shape)\n"
   ]
  },
  {
   "cell_type": "code",
   "execution_count": 8,
   "id": "01ae0641",
   "metadata": {},
   "outputs": [],
   "source": [
    "def univariateLinearRegression(X_train, X_test, y_train, y_test, disable_print=False):\n",
    "    linreg = LinearRegression()         # create the linear regression object\n",
    "    linreg.fit(X_train, y_train)        # train the linear regression model\n",
    "\n",
    "    y_train_pred = linreg.predict(X_train)\n",
    "    y_test_pred = linreg.predict(X_test)\n",
    "    \n",
    "    if not disable_print:\n",
    "    \n",
    "        # Print the coefficients of the Regression Line\n",
    "        print('Intercept \\t: b = ', linreg.intercept_)\n",
    "        print('Coefficients \\t: a = ', linreg.coef_)\n",
    "     \n",
    "        # Check the Goodness of Fit (on Train Data)\n",
    "        print(\"Goodness of Fit of Model \\tTrain Dataset\")\n",
    "        print(\"Explained Variance (R^2) \\t:\", linreg.score(X_train, y_train))\n",
    "        print(\"Mean Squared Error (MSE) \\t:\", mean_squared_error(y_train, y_train_pred))\n",
    "        print()\n",
    "\n",
    "        # Check the Goodness of Fit (on Test Data)\n",
    "        print(\"Prediction Accuracy of Model \\tTest Dataset\")\n",
    "        print(\"Explained Variance (R^2) \\t:\", linreg.score(X_test, y_test))\n",
    "        print(\"Mean Squared Error (MSE) \\t:\", mean_squared_error(y_test, y_test_pred))\n",
    "        print()\n",
    "    \n",
    "    return linreg.score(X_train, y_train), mean_squared_error(y_train, y_train_pred), linreg.score(X_test, y_test), mean_squared_error(y_test, y_test_pred)"
   ]
  },
  {
   "cell_type": "code",
   "execution_count": 9,
   "id": "2176d654",
   "metadata": {},
   "outputs": [
    {
     "name": "stdout",
     "output_type": "stream",
     "text": [
      "Intercept \t: b =  [0.13057505]\n",
      "Coefficients \t: a =  [[-3.09956953e-02 -2.79646864e-02 -3.45590853e-04  1.95444772e-01\n",
      "  -4.00699411e-02 -1.74517732e-01  4.16384546e-01  3.92850373e-01\n",
      "   5.99566957e-02]]\n",
      "Goodness of Fit of Model \tTrain Dataset\n",
      "Explained Variance (R^2) \t: 0.6060022012491117\n",
      "Mean Squared Error (MSE) \t: 0.007865334309178894\n",
      "\n",
      "Prediction Accuracy of Model \tTest Dataset\n",
      "Explained Variance (R^2) \t: 0.630289490585169\n",
      "Mean Squared Error (MSE) \t: 0.007574299481813778\n",
      "\n"
     ]
    },
    {
     "data": {
      "text/plain": [
       "(0.6060022012491117,\n",
       " 0.007865334309178894,\n",
       " 0.630289490585169,\n",
       " 0.007574299481813778)"
      ]
     },
     "execution_count": 9,
     "metadata": {},
     "output_type": "execute_result"
    }
   ],
   "source": [
    "univariateLinearRegression(train_Happiness_X, test_Happiness_X, train_Happiness_y, test_Happiness_y)"
   ]
  },
  {
   "cell_type": "markdown",
   "id": "85c1cf90",
   "metadata": {},
   "source": [
    "## Stepwise Linear Regression (OLS)"
   ]
  },
  {
   "cell_type": "code",
   "execution_count": 10,
   "id": "5fb7b85c",
   "metadata": {},
   "outputs": [
    {
     "name": "stdout",
     "output_type": "stream",
     "text": [
      "                                  OLS Regression Results                                 \n",
      "=========================================================================================\n",
      "Dep. Variable:     Work Happiness Score   R-squared (uncentered):                   0.969\n",
      "Model:                              OLS   Adj. R-squared (uncentered):              0.969\n",
      "Method:                   Least Squares   F-statistic:                              8328.\n",
      "Date:                  Sun, 17 Apr 2022   Prob (F-statistic):                        0.00\n",
      "Time:                          19:54:49   Log-Likelihood:                          2334.6\n",
      "No. Observations:                  2375   AIC:                                     -4651.\n",
      "Df Residuals:                      2366   BIC:                                     -4599.\n",
      "Df Model:                             9                                                  \n",
      "Covariance Type:              nonrobust                                                  \n",
      "============================================================================================\n",
      "                               coef    std err          t      P>|t|      [0.025      0.975]\n",
      "--------------------------------------------------------------------------------------------\n",
      "ceo_approval                 0.1223      0.019      6.309      0.000       0.084       0.160\n",
      "employees                    0.0357      0.012      2.941      0.003       0.012       0.059\n",
      "revenue                     -0.0175      0.010     -1.671      0.095      -0.038       0.003\n",
      "Work/Life Balance            0.2028      0.033      6.163      0.000       0.138       0.267\n",
      "Compensation/Benefits       -0.0460      0.021     -2.235      0.026      -0.086      -0.006\n",
      "Job Security/Advancement    -0.2124      0.039     -5.423      0.000      -0.289      -0.136\n",
      "Management                   0.4065      0.050      8.078      0.000       0.308       0.505\n",
      "Culture                      0.3855      0.053      7.331      0.000       0.282       0.489\n",
      "avg_salary                   0.0835      0.027      3.113      0.002       0.031       0.136\n",
      "==============================================================================\n",
      "Omnibus:                       67.407   Durbin-Watson:                   1.984\n",
      "Prob(Omnibus):                  0.000   Jarque-Bera (JB):              149.478\n",
      "Skew:                          -0.128   Prob(JB):                     3.48e-33\n",
      "Kurtosis:                       4.202   Cond. No.                         59.1\n",
      "==============================================================================\n",
      "\n",
      "Notes:\n",
      "[1] R² is computed without centering (uncentered) since the model does not contain a constant.\n",
      "[2] Standard Errors assume that the covariance matrix of the errors is correctly specified.\n"
     ]
    }
   ],
   "source": [
    "## creating function to get model statistics\n",
    "import numpy as np\n",
    "import statsmodels.api as sm\n",
    "stepwise_train_happiness_x = train_Happiness_X\n",
    "results = sm.OLS(train_Happiness_y, stepwise_train_happiness_x).fit()\n",
    "print(results.summary())"
   ]
  },
  {
   "cell_type": "code",
   "execution_count": null,
   "id": "6ec6462a",
   "metadata": {},
   "outputs": [],
   "source": []
  },
  {
   "cell_type": "markdown",
   "id": "86a0560a",
   "metadata": {},
   "source": [
    "---\n",
    "\n",
    "## Linear Regression after PCA"
   ]
  },
  {
   "cell_type": "code",
   "execution_count": 11,
   "id": "2f95cf6a",
   "metadata": {},
   "outputs": [
    {
     "data": {
      "text/html": [
       "<div>\n",
       "<style scoped>\n",
       "    .dataframe tbody tr th:only-of-type {\n",
       "        vertical-align: middle;\n",
       "    }\n",
       "\n",
       "    .dataframe tbody tr th {\n",
       "        vertical-align: top;\n",
       "    }\n",
       "\n",
       "    .dataframe thead th {\n",
       "        text-align: right;\n",
       "    }\n",
       "</style>\n",
       "<table border=\"1\" class=\"dataframe\">\n",
       "  <thead>\n",
       "    <tr style=\"text-align: right;\">\n",
       "      <th></th>\n",
       "      <th>name</th>\n",
       "      <th>rating</th>\n",
       "      <th>reviews</th>\n",
       "      <th>ceo_approval</th>\n",
       "      <th>ceo_count</th>\n",
       "      <th>employees</th>\n",
       "      <th>revenue</th>\n",
       "      <th>Work/Life Balance</th>\n",
       "      <th>Compensation/Benefits</th>\n",
       "      <th>Job Security/Advancement</th>\n",
       "      <th>...</th>\n",
       "      <th>Commodities</th>\n",
       "      <th>FNB</th>\n",
       "      <th>Financials</th>\n",
       "      <th>Govt_Services</th>\n",
       "      <th>Healthcare_NGO</th>\n",
       "      <th>Leisure</th>\n",
       "      <th>Real_Estate</th>\n",
       "      <th>Retail</th>\n",
       "      <th>Tech</th>\n",
       "      <th>Telecomm</th>\n",
       "    </tr>\n",
       "  </thead>\n",
       "  <tbody>\n",
       "    <tr>\n",
       "      <th>1</th>\n",
       "      <td>Georgia Tech</td>\n",
       "      <td>4.2</td>\n",
       "      <td>0.003560</td>\n",
       "      <td>0.838384</td>\n",
       "      <td>0.002855</td>\n",
       "      <td>0.875</td>\n",
       "      <td>0.750</td>\n",
       "      <td>0.750000</td>\n",
       "      <td>0.653846</td>\n",
       "      <td>0.642857</td>\n",
       "      <td>...</td>\n",
       "      <td>0</td>\n",
       "      <td>0</td>\n",
       "      <td>0</td>\n",
       "      <td>1</td>\n",
       "      <td>0</td>\n",
       "      <td>0</td>\n",
       "      <td>0</td>\n",
       "      <td>0</td>\n",
       "      <td>0</td>\n",
       "      <td>0</td>\n",
       "    </tr>\n",
       "    <tr>\n",
       "      <th>2</th>\n",
       "      <td>Georgetown University</td>\n",
       "      <td>4.1</td>\n",
       "      <td>0.002158</td>\n",
       "      <td>0.898990</td>\n",
       "      <td>0.001879</td>\n",
       "      <td>0.875</td>\n",
       "      <td>0.750</td>\n",
       "      <td>0.785714</td>\n",
       "      <td>0.692308</td>\n",
       "      <td>0.678571</td>\n",
       "      <td>...</td>\n",
       "      <td>0</td>\n",
       "      <td>0</td>\n",
       "      <td>0</td>\n",
       "      <td>1</td>\n",
       "      <td>0</td>\n",
       "      <td>0</td>\n",
       "      <td>0</td>\n",
       "      <td>0</td>\n",
       "      <td>0</td>\n",
       "      <td>0</td>\n",
       "    </tr>\n",
       "    <tr>\n",
       "      <th>3</th>\n",
       "      <td>Benchmark Hospitality</td>\n",
       "      <td>3.9</td>\n",
       "      <td>0.000608</td>\n",
       "      <td>0.909091</td>\n",
       "      <td>0.000820</td>\n",
       "      <td>0.875</td>\n",
       "      <td>0.500</td>\n",
       "      <td>0.607143</td>\n",
       "      <td>0.653846</td>\n",
       "      <td>0.607143</td>\n",
       "      <td>...</td>\n",
       "      <td>0</td>\n",
       "      <td>0</td>\n",
       "      <td>0</td>\n",
       "      <td>0</td>\n",
       "      <td>0</td>\n",
       "      <td>1</td>\n",
       "      <td>0</td>\n",
       "      <td>0</td>\n",
       "      <td>0</td>\n",
       "      <td>0</td>\n",
       "    </tr>\n",
       "    <tr>\n",
       "      <th>4</th>\n",
       "      <td>Support.com</td>\n",
       "      <td>2.7</td>\n",
       "      <td>0.002344</td>\n",
       "      <td>0.414141</td>\n",
       "      <td>0.002419</td>\n",
       "      <td>0.750</td>\n",
       "      <td>0.375</td>\n",
       "      <td>0.321429</td>\n",
       "      <td>0.192308</td>\n",
       "      <td>0.142857</td>\n",
       "      <td>...</td>\n",
       "      <td>0</td>\n",
       "      <td>0</td>\n",
       "      <td>0</td>\n",
       "      <td>0</td>\n",
       "      <td>0</td>\n",
       "      <td>0</td>\n",
       "      <td>0</td>\n",
       "      <td>0</td>\n",
       "      <td>1</td>\n",
       "      <td>0</td>\n",
       "    </tr>\n",
       "    <tr>\n",
       "      <th>5</th>\n",
       "      <td>Carter Lumber</td>\n",
       "      <td>3.2</td>\n",
       "      <td>0.001091</td>\n",
       "      <td>0.585859</td>\n",
       "      <td>0.001215</td>\n",
       "      <td>0.750</td>\n",
       "      <td>0.750</td>\n",
       "      <td>0.464286</td>\n",
       "      <td>0.384615</td>\n",
       "      <td>0.285714</td>\n",
       "      <td>...</td>\n",
       "      <td>0</td>\n",
       "      <td>0</td>\n",
       "      <td>0</td>\n",
       "      <td>0</td>\n",
       "      <td>0</td>\n",
       "      <td>0</td>\n",
       "      <td>1</td>\n",
       "      <td>0</td>\n",
       "      <td>0</td>\n",
       "      <td>0</td>\n",
       "    </tr>\n",
       "  </tbody>\n",
       "</table>\n",
       "<p>5 rows × 24 columns</p>\n",
       "</div>"
      ],
      "text/plain": [
       "                    name  rating   reviews  ceo_approval  ceo_count  \\\n",
       "1           Georgia Tech     4.2  0.003560      0.838384   0.002855   \n",
       "2  Georgetown University     4.1  0.002158      0.898990   0.001879   \n",
       "3  Benchmark Hospitality     3.9  0.000608      0.909091   0.000820   \n",
       "4            Support.com     2.7  0.002344      0.414141   0.002419   \n",
       "5          Carter Lumber     3.2  0.001091      0.585859   0.001215   \n",
       "\n",
       "   employees  revenue  Work/Life Balance  Compensation/Benefits  \\\n",
       "1      0.875    0.750           0.750000               0.653846   \n",
       "2      0.875    0.750           0.785714               0.692308   \n",
       "3      0.875    0.500           0.607143               0.653846   \n",
       "4      0.750    0.375           0.321429               0.192308   \n",
       "5      0.750    0.750           0.464286               0.384615   \n",
       "\n",
       "   Job Security/Advancement  ...  Commodities  FNB  Financials  Govt_Services  \\\n",
       "1                  0.642857  ...            0    0           0              1   \n",
       "2                  0.678571  ...            0    0           0              1   \n",
       "3                  0.607143  ...            0    0           0              0   \n",
       "4                  0.142857  ...            0    0           0              0   \n",
       "5                  0.285714  ...            0    0           0              0   \n",
       "\n",
       "   Healthcare_NGO  Leisure  Real_Estate  Retail  Tech  Telecomm  \n",
       "1               0        0            0       0     0         0  \n",
       "2               0        0            0       0     0         0  \n",
       "3               0        1            0       0     0         0  \n",
       "4               0        0            0       0     1         0  \n",
       "5               0        0            1       0     0         0  \n",
       "\n",
       "[5 rows x 24 columns]"
      ]
     },
     "execution_count": 11,
     "metadata": {},
     "output_type": "execute_result"
    }
   ],
   "source": [
    "dummies = pd.get_dummies(df['industry'])\n",
    "df = pd.concat([df, dummies], axis=1)\n",
    "df = df.drop(['industry', 'industry_num'], axis=1)\n",
    "df.head()"
   ]
  },
  {
   "cell_type": "code",
   "execution_count": 12,
   "id": "7269f785",
   "metadata": {},
   "outputs": [
    {
     "data": {
      "text/plain": [
       "Index(['name', 'rating', 'reviews', 'ceo_approval', 'ceo_count', 'employees',\n",
       "       'revenue', 'Work/Life Balance', 'Compensation/Benefits',\n",
       "       'Job Security/Advancement', 'Management', 'Culture', 'avg_salary',\n",
       "       'Work Happiness Score', 'Commodities', 'FNB', 'Financials',\n",
       "       'Govt_Services', 'Healthcare_NGO', 'Leisure', 'Real_Estate', 'Retail',\n",
       "       'Tech', 'Telecomm'],\n",
       "      dtype='object')"
      ]
     },
     "execution_count": 12,
     "metadata": {},
     "output_type": "execute_result"
    }
   ],
   "source": [
    "df.columns"
   ]
  },
  {
   "cell_type": "code",
   "execution_count": 13,
   "id": "aeb50dc5",
   "metadata": {},
   "outputs": [],
   "source": [
    "from sklearn.decomposition import PCA\n",
    "\n",
    "rating_features = ['reviews', 'ceo_approval', 'ceo_count', 'employees',\n",
    "           'revenue', 'Work/Life Balance', 'Compensation/Benefits',\n",
    "           'Job Security/Advancement', 'Management', 'Culture', 'avg_salary',\n",
    "           'Work Happiness Score', 'Commodities', 'FNB', 'Financials',\n",
    "           'Govt_Services', 'Healthcare_NGO', 'Leisure', 'Real_Estate', 'Retail',\n",
    "           'Tech', 'Telecomm']\n",
    "\n",
    "def pca_linear_regression(components, features, get_weights=False):\n",
    "    rating_pca = PCA(n_components=components)\n",
    "\n",
    "    x = df.loc[:, rating_features].values\n",
    "    y = df.loc[:,['rating']].values\n",
    "\n",
    "    pca_columns = ['pc' + str(s) for s in list(range(1, components+1))]\n",
    "\n",
    "    principalDf = pd.DataFrame(data = rating_pca.fit_transform(x)\n",
    "                 , columns = pca_columns)\n",
    "\n",
    "    ratingPCADf = pd.concat([principalDf, df['rating'].reset_index()], axis = 1)\n",
    "    ratingPCADf.drop(['index'], axis=1)\n",
    "\n",
    "    train_rating_pca, test_rating_pca = train_test_split(ratingPCADf, test_size = 0.2, random_state = 42, shuffle = False)\n",
    "\n",
    "    train_rating_pca_x = train_rating_pca[pca_columns]\n",
    "    train_rating_pca_y = train_rating_pca['rating']\n",
    "\n",
    "    test_rating_pca_x = test_rating_pca[pca_columns]\n",
    "    test_rating_pca_y = test_rating_pca['rating']\n",
    "    \n",
    "    if get_weights:\n",
    "        return rating_pca.components_\n",
    "\n",
    "    return univariateLinearRegression(train_rating_pca_x, test_rating_pca_x, train_rating_pca_y, test_rating_pca_y, disable_print=True)\n"
   ]
  },
  {
   "cell_type": "code",
   "execution_count": 14,
   "id": "c338c006",
   "metadata": {},
   "outputs": [],
   "source": [
    "rSq_test_list = np.array([])\n",
    "mse_test_list = np.array([])\n",
    "rSq_train_list = np.array([])\n",
    "mse_train_list = np.array([])\n",
    "\n",
    "for i in range(2,10):\n",
    "    rSq_test, mse_test, rSq_train, mse_train = pca_linear_regression(i, rating_features)\n",
    "    rSq_test_list = np.append(rSq_test_list, rSq_test)\n",
    "    mse_test_list = np.append(mse_test_list, mse_test)\n",
    "    rSq_train_list = np.append(rSq_train_list, rSq_train)\n",
    "    mse_train_list = np.append(mse_train_list, mse_train)"
   ]
  },
  {
   "cell_type": "code",
   "execution_count": 15,
   "id": "37f0a12e",
   "metadata": {},
   "outputs": [
    {
     "data": {
      "image/png": "[encoded data removed]",
      "text/plain": [
       "<Figure size 1152x864 with 4 Axes>"
      ]
     },
     "metadata": {
      "needs_background": "light"
     },
     "output_type": "display_data"
    }
   ],
   "source": [
    "fig, axs = plt.subplots(2, 2, figsize=(16, 12))\n",
    "x = list(range(2,10))\n",
    "\n",
    "axs[0, 0].plot(x, rSq_test_list)\n",
    "axs[0, 0].set_title('Test Set R Squared vs Components')\n",
    "\n",
    "axs[0, 1].plot(x, mse_test_list, 'tab:orange')\n",
    "axs[0, 1].set_title('Test Data MSE vs Components')\n",
    "axs[0, 1].set_yscale('log')\n",
    "\n",
    "axs[1, 0].plot(x, rSq_train_list, 'tab:green')\n",
    "axs[1, 0].set_title('Training Set R Squared vs Components')\n",
    "\n",
    "axs[1, 1].plot(x, mse_train_list, 'tab:red')\n",
    "axs[1, 1].set_title('Training Data MSE vs Components')\n",
    "axs[1, 1].set_yscale('log')"
   ]
  },
  {
   "cell_type": "markdown",
   "id": "eb24e9d3",
   "metadata": {},
   "source": [
    "Due to the multicollinearity of the features, we were able to reduce the **22** features down to just **7** dimensions without losing much information. This can be seen on the OLS Model MSE, which decreased significantly from 4 dimensions to 7 dimensions before tapering off. "
   ]
  },
  {
   "cell_type": "markdown",
   "id": "314d37af",
   "metadata": {},
   "source": [
    "---\n",
    "\n",
    "## Importance of different features for PCA with 7 components\n",
    "\n",
    "We look more closely into the PCA with 7 dimensions. By looking at the absolute values of each eigenvector, and summing them up over the different components, we were able to get a measure of relative importance of the different features. "
   ]
  },
  {
   "cell_type": "code",
   "execution_count": 16,
   "id": "61c3d831",
   "metadata": {},
   "outputs": [
    {
     "data": {
      "text/plain": [
       "<AxesSubplot:xlabel='Weights', ylabel='Features'>"
      ]
     },
     "execution_count": 16,
     "metadata": {},
     "output_type": "execute_result"
    },
    {
     "data": {
      "image/png": "[encoded data removed]",
      "text/plain": [
       "<Figure size 1080x576 with 1 Axes>"
      ]
     },
     "metadata": {
      "needs_background": "light"
     },
     "output_type": "display_data"
    }
   ],
   "source": [
    "principleComponents = np.array(pca_linear_regression(7, rating_features, get_weights=True))\n",
    "weights = abs(principleComponents.sum(axis=0))\n",
    "weights = weights/np.sum(weights)\n",
    "\n",
    "weightsDF = pd.DataFrame({\"Features\": rating_features,\n",
    "                   \"Weights\": weights})\n",
    "\n",
    "plt.figure(figsize=(15,8))\n",
    "sb.barplot(x='Weights', y=\"Features\", data=weightsDF, order=weightsDF.sort_values('Weights', ascending=False).Features, \n",
    "           orient='h')"
   ]
  },
  {
   "cell_type": "markdown",
   "id": "e45ef340",
   "metadata": {},
   "source": [
    "As it turns out, the industries actually played an important role in predicting **work happiness**. The highest weighted was **Governmental Services**, possibly because it was an outlier as discovered in our EDA. \n",
    "\n",
    "**Revenue** and **employees** were ranked unexpectedly high however, which possibly indicates that **company size** does affect **work happiness**, or even differences across the various **industries**. "
   ]
  },
  {
   "cell_type": "markdown",
   "id": "bda9caa2",
   "metadata": {},
   "source": [
    "---\n",
    "\n",
    "## Light GBM model\n",
    "Light GBM is a fast, distributed, high-performance gradient boosting framework based on decision tree algorithm, used for ranking, classification and many other machine learning tasks."
   ]
  },
  {
   "cell_type": "code",
   "execution_count": 17,
   "id": "208a953c",
   "metadata": {},
   "outputs": [],
   "source": [
    "from sklearn.model_selection import KFold\n",
    "import lightgbm as lgb\n",
    "import datetime\n",
    "import time"
   ]
  },
  {
   "cell_type": "code",
   "execution_count": 18,
   "id": "9d56e4fb",
   "metadata": {},
   "outputs": [],
   "source": [
    "# import train/test set\n",
    "target = train['rating']\n",
    "train_rating_X = train.drop(columns = ['name', 'rating', 'reviews', 'ceo_count', 'industry'])\n",
    "features = [c for c in train_rating_X.columns]\n",
    "categorical_feats = ['industry_num', 'revenue', 'employees']"
   ]
  },
  {
   "cell_type": "code",
   "execution_count": 19,
   "id": "862a5c4c",
   "metadata": {},
   "outputs": [],
   "source": [
    "# set the hyperparameters of the LGBM model\n",
    "param = {'num_leavs' : 80,\n",
    "         'min_data_in_leaf' : 90,\n",
    "         'objective' : 'regression',\n",
    "         'max_depth' : 5,\n",
    "         'learning_rate' : 0.005,\n",
    "         'boosting' : 'gbdt',\n",
    "         'feature_fraction' : 0.7522,\n",
    "         'bagging_freq' : 1,\n",
    "         'bagging_fraction' : 0.7083,\n",
    "         'bagging_seed' : 11,\n",
    "         'metric' : 'rmse',\n",
    "         'lambda_l1' : 0.2634,\n",
    "         'random_state' : 133,\n",
    "         'verbosity' : -1\n",
    "        }"
   ]
  },
  {
   "cell_type": "code",
   "execution_count": 20,
   "id": "a90f48d9",
   "metadata": {
    "scrolled": true
   },
   "outputs": [
    {
     "name": "stdout",
     "output_type": "stream",
     "text": [
      "[Fold 0]\n",
      "[LightGBM] [Warning] Unknown parameter: num_leavs\n",
      "Training until validation scores don't improve for 100 rounds\n"
     ]
    },
    {
     "name": "stderr",
     "output_type": "stream",
     "text": [
      "/Users/jianglei/anaconda3/lib/python3.8/site-packages/lightgbm/basic.py:1702: UserWarning: Using categorical_feature in Dataset.\n",
      "  _log_warning('Using categorical_feature in Dataset.')\n",
      "/Users/jianglei/anaconda3/lib/python3.8/site-packages/lightgbm/basic.py:1433: UserWarning: Overriding the parameters from Reference Dataset.\n",
      "  _log_warning('Overriding the parameters from Reference Dataset.')\n",
      "/Users/jianglei/anaconda3/lib/python3.8/site-packages/lightgbm/basic.py:1245: UserWarning: categorical_column in param dict is overridden.\n",
      "  _log_warning('{} in param dict is overridden.'.format(cat_alias))\n"
     ]
    },
    {
     "name": "stdout",
     "output_type": "stream",
     "text": [
      "[1000]\ttraining's rmse: 0.0879441\tvalid_1's rmse: 0.089957\n",
      "[2000]\ttraining's rmse: 0.0847159\tvalid_1's rmse: 0.088675\n",
      "[3000]\ttraining's rmse: 0.0827861\tvalid_1's rmse: 0.0880686\n",
      "Early stopping, best iteration is:\n",
      "[2979]\ttraining's rmse: 0.0828248\tvalid_1's rmse: 0.0880211\n",
      "[Fold 1]\n",
      "[LightGBM] [Warning] Unknown parameter: num_leavs\n",
      "Training until validation scores don't improve for 100 rounds\n",
      "[1000]\ttraining's rmse: 0.0892229\tvalid_1's rmse: 0.0785112\n",
      "Early stopping, best iteration is:\n",
      "[1402]\ttraining's rmse: 0.0875474\tvalid_1's rmse: 0.0781901\n",
      "[Fold 2]\n",
      "[LightGBM] [Warning] Unknown parameter: num_leavs\n",
      "Training until validation scores don't improve for 100 rounds\n",
      "[1000]\ttraining's rmse: 0.087874\tvalid_1's rmse: 0.0864438\n",
      "Early stopping, best iteration is:\n",
      "[979]\ttraining's rmse: 0.0880064\tvalid_1's rmse: 0.0864335\n",
      "[Fold 3]\n",
      "[LightGBM] [Warning] Unknown parameter: num_leavs\n",
      "Training until validation scores don't improve for 100 rounds\n",
      "[1000]\ttraining's rmse: 0.0848814\tvalid_1's rmse: 0.106721\n",
      "[2000]\ttraining's rmse: 0.0816638\tvalid_1's rmse: 0.103368\n",
      "Early stopping, best iteration is:\n",
      "[2393]\ttraining's rmse: 0.0808458\tvalid_1's rmse: 0.103082\n",
      "[Fold 4]\n",
      "[LightGBM] [Warning] Unknown parameter: num_leavs\n",
      "Training until validation scores don't improve for 100 rounds\n",
      "[1000]\ttraining's rmse: 0.088108\tvalid_1's rmse: 0.0874006\n",
      "[2000]\ttraining's rmse: 0.0849341\tvalid_1's rmse: 0.0855305\n",
      "[3000]\ttraining's rmse: 0.0830921\tvalid_1's rmse: 0.0850188\n",
      "Early stopping, best iteration is:\n",
      "[2977]\ttraining's rmse: 0.0831254\tvalid_1's rmse: 0.0849948\n",
      "[Fold 5]\n",
      "[LightGBM] [Warning] Unknown parameter: num_leavs\n",
      "Training until validation scores don't improve for 100 rounds\n",
      "[1000]\ttraining's rmse: 0.0843401\tvalid_1's rmse: 0.104678\n",
      "[2000]\ttraining's rmse: 0.0811436\tvalid_1's rmse: 0.103564\n",
      "Early stopping, best iteration is:\n",
      "[2551]\ttraining's rmse: 0.0800469\tvalid_1's rmse: 0.103391\n",
      "CV score: 0.09116 \n"
     ]
    }
   ],
   "source": [
    "folds = KFold(n_splits = 6, shuffle = True, random_state = 20)\n",
    "oof = np.zeros(len(train))\n",
    "predictions = np.zeros(len(test))\n",
    "important_feature = pd.DataFrame()\n",
    "\n",
    "for fold_cnt, (train_idx, value_idx) in enumerate(folds.split(train.values, target.values)):\n",
    "    print(\"[Fold {}]\".format(fold_cnt))\n",
    "    train_data = lgb.Dataset(train.iloc[train_idx][features], label = target.iloc[train_idx], categorical_feature=categorical_feats)\n",
    "    value_data = lgb.Dataset(train.iloc[value_idx][features], label = target.iloc[value_idx], categorical_feature=categorical_feats)\n",
    "\n",
    "    model = lgb.train(param, train_data, 5000, valid_sets = [train_data, value_data], verbose_eval = 1000, early_stopping_rounds = 100)\n",
    "    \n",
    "    oof[value_idx] = model.predict(train.iloc[value_idx][features], num_iteration = model.best_iteration)\n",
    "    \n",
    "    important_fold = pd.DataFrame()\n",
    "    important_fold[\"feature\"] = features\n",
    "    important_fold[\"importance\"] = model.feature_importance()\n",
    "    important_fold[\"fold\"] = fold_cnt + 1\n",
    "    important_feature = pd.concat([important_feature, important_fold], axis = 0)\n",
    "    \n",
    "    predictions += model.predict(test[features], num_iteration = model.best_iteration) / folds.n_splits\n",
    "\n",
    "print(\"CV score: {:<8.5f}\".format(mean_squared_error(oof, target)**0.5))"
   ]
  },
  {
   "cell_type": "code",
   "execution_count": 21,
   "id": "8011d161",
   "metadata": {},
   "outputs": [
    {
     "name": "stdout",
     "output_type": "stream",
     "text": [
      "Root Mean Squared Error (RMSE) \t: 0.08846362440809553\n",
      "Mean Absolute Error (MAE) \t: 0.06083786029491172\n"
     ]
    }
   ],
   "source": [
    "print(\"Root Mean Squared Error (RMSE) \\t: {}\".format(mean_squared_error(predictions, test['rating'])**0.5))\n",
    "print(\"Mean Absolute Error (MAE) \\t: {}\".format(mean_absolute_error(predictions, test['rating'])))\n"
   ]
  },
  {
   "cell_type": "code",
   "execution_count": 22,
   "id": "921ec5e3",
   "metadata": {
    "scrolled": false
   },
   "outputs": [
    {
     "data": {
      "image/png": "[encoded data removed]",
      "text/plain": [
       "<Figure size 1008x576 with 1 Axes>"
      ]
     },
     "metadata": {
      "needs_background": "light"
     },
     "output_type": "display_data"
    }
   ],
   "source": [
    "cols = (important_feature[[\"feature\", \"importance\"]]\n",
    "        .groupby(\"feature\")\n",
    "        .mean()\n",
    "        .sort_values(by = \"importance\", ascending = False)[0:10].index)\n",
    "\n",
    "best_features = important_feature.loc[important_feature.feature.isin(cols)]\n",
    "\n",
    "plt.figure(figsize=(14, 8))\n",
    "sb.barplot(x=\"importance\",\n",
    "            y=\"feature\",\n",
    "            data=best_features.sort_values(by=\"importance\",\n",
    "                                           ascending=False))\n",
    "plt.title('LightGBM Features (avg over folds)')\n",
    "plt.tight_layout()\n",
    "plt.savefig('lgbm_importances.png')"
   ]
  },
  {
   "cell_type": "code",
   "execution_count": null,
   "id": "95909b05",
   "metadata": {
    "scrolled": true
   },
   "outputs": [],
   "source": []
  },
  {
   "cell_type": "markdown",
   "id": "58dd4d14",
   "metadata": {},
   "source": [
    "\n"
   ]
  },
  {
   "cell_type": "markdown",
   "id": "a5708b78",
   "metadata": {},
   "source": [
    "---\n",
    "\n",
    "# Insights"
   ]
  },
  {
   "cell_type": "markdown",
   "id": "4503460a",
   "metadata": {},
   "source": [
    "### Find the `anomalies` of ratings among the companies."
   ]
  },
  {
   "cell_type": "code",
   "execution_count": 23,
   "id": "54f52c82",
   "metadata": {},
   "outputs": [],
   "source": [
    "df_anomalies = pd.DataFrame({\"Company Name\" : test[\"name\"].values})\n",
    "df_anomalies[\"industry\"] = test['industry']\n",
    "df_anomalies[\"real\"] = test['rating']\n",
    "df_anomalies[\"predict\"] = predictions\n",
    "df_anomalies['difference'] = df_anomalies['predict'] - df_anomalies[\"real\"] "
   ]
  },
  {
   "cell_type": "code",
   "execution_count": 24,
   "id": "b6992d3f",
   "metadata": {},
   "outputs": [
    {
     "data": {
      "text/plain": [
       "<AxesSubplot:xlabel='difference', ylabel='Count'>"
      ]
     },
     "execution_count": 24,
     "metadata": {},
     "output_type": "execute_result"
    },
    {
     "data": {
      "image/png": "[encoded data removed]",
      "text/plain": [
       "<Figure size 432x288 with 1 Axes>"
      ]
     },
     "metadata": {
      "needs_background": "light"
     },
     "output_type": "display_data"
    }
   ],
   "source": [
    "sb.histplot(df_anomalies['difference'], binwidth = 0.01, kde=True)"
   ]
  },
  {
   "cell_type": "code",
   "execution_count": 25,
   "id": "5c152b3e",
   "metadata": {},
   "outputs": [
    {
     "name": "stdout",
     "output_type": "stream",
     "text": [
      "2.5% percentile of ratios : -0.15218706559852144\n",
      "97.5% percentile of ratios : 0.19847072779424338\n",
      "The 95% confidential interval is [-0.15218706559852144, 0.19847072779424338]\n"
     ]
    }
   ],
   "source": [
    "LL = df_anomalies['difference'].quantile(0.025)\n",
    "UL = df_anomalies['difference'].quantile(0.975)\n",
    "print(\"2.5% percentile of ratios : {}\".format(LL))\n",
    "print(\"97.5% percentile of ratios : {}\".format(UL))\n",
    "print(\"The 95% confidential interval is [{}, {}]\".format(LL, UL))"
   ]
  },
  {
   "cell_type": "code",
   "execution_count": 26,
   "id": "7ea52bb8",
   "metadata": {
    "scrolled": false
   },
   "outputs": [
    {
     "data": {
      "text/html": [
       "<div>\n",
       "<style scoped>\n",
       "    .dataframe tbody tr th:only-of-type {\n",
       "        vertical-align: middle;\n",
       "    }\n",
       "\n",
       "    .dataframe tbody tr th {\n",
       "        vertical-align: top;\n",
       "    }\n",
       "\n",
       "    .dataframe thead th {\n",
       "        text-align: right;\n",
       "    }\n",
       "</style>\n",
       "<table border=\"1\" class=\"dataframe\">\n",
       "  <thead>\n",
       "    <tr style=\"text-align: right;\">\n",
       "      <th></th>\n",
       "      <th>Company Name</th>\n",
       "      <th>industry</th>\n",
       "      <th>real</th>\n",
       "      <th>predict</th>\n",
       "      <th>difference</th>\n",
       "    </tr>\n",
       "  </thead>\n",
       "  <tbody>\n",
       "    <tr>\n",
       "      <th>9</th>\n",
       "      <td>Med-Scribe, Inc</td>\n",
       "      <td>Financials</td>\n",
       "      <td>4.6</td>\n",
       "      <td>4.303947</td>\n",
       "      <td>-0.296053</td>\n",
       "    </tr>\n",
       "    <tr>\n",
       "      <th>44</th>\n",
       "      <td>Encore Wire</td>\n",
       "      <td>Commodities</td>\n",
       "      <td>3.4</td>\n",
       "      <td>3.244330</td>\n",
       "      <td>-0.155670</td>\n",
       "    </tr>\n",
       "    <tr>\n",
       "      <th>76</th>\n",
       "      <td>Lamps Plus</td>\n",
       "      <td>Retail</td>\n",
       "      <td>3.5</td>\n",
       "      <td>3.212750</td>\n",
       "      <td>-0.287250</td>\n",
       "    </tr>\n",
       "    <tr>\n",
       "      <th>125</th>\n",
       "      <td>ServiceLink</td>\n",
       "      <td>Financials</td>\n",
       "      <td>3.0</td>\n",
       "      <td>2.818695</td>\n",
       "      <td>-0.181305</td>\n",
       "    </tr>\n",
       "    <tr>\n",
       "      <th>157</th>\n",
       "      <td>Pressley Ridge</td>\n",
       "      <td>Govt_Services</td>\n",
       "      <td>3.3</td>\n",
       "      <td>3.144382</td>\n",
       "      <td>-0.155618</td>\n",
       "    </tr>\n",
       "    <tr>\n",
       "      <th>188</th>\n",
       "      <td>The IMA Group</td>\n",
       "      <td>Healthcare_NGO</td>\n",
       "      <td>2.8</td>\n",
       "      <td>2.623485</td>\n",
       "      <td>-0.176515</td>\n",
       "    </tr>\n",
       "    <tr>\n",
       "      <th>205</th>\n",
       "      <td>Radio Flyer Inc.</td>\n",
       "      <td>Retail</td>\n",
       "      <td>4.8</td>\n",
       "      <td>4.305319</td>\n",
       "      <td>-0.494681</td>\n",
       "    </tr>\n",
       "    <tr>\n",
       "      <th>222</th>\n",
       "      <td>United Road Services Inc</td>\n",
       "      <td>Govt_Services</td>\n",
       "      <td>3.1</td>\n",
       "      <td>2.938590</td>\n",
       "      <td>-0.161410</td>\n",
       "    </tr>\n",
       "    <tr>\n",
       "      <th>263</th>\n",
       "      <td>Hepaco</td>\n",
       "      <td>Financials</td>\n",
       "      <td>3.3</td>\n",
       "      <td>2.939744</td>\n",
       "      <td>-0.360256</td>\n",
       "    </tr>\n",
       "    <tr>\n",
       "      <th>279</th>\n",
       "      <td>Car Spa, Inc.</td>\n",
       "      <td>Retail</td>\n",
       "      <td>3.4</td>\n",
       "      <td>3.230502</td>\n",
       "      <td>-0.169498</td>\n",
       "    </tr>\n",
       "    <tr>\n",
       "      <th>285</th>\n",
       "      <td>Suncrest Hospice Home Health Palliative Care</td>\n",
       "      <td>Healthcare_NGO</td>\n",
       "      <td>4.5</td>\n",
       "      <td>4.304243</td>\n",
       "      <td>-0.195757</td>\n",
       "    </tr>\n",
       "    <tr>\n",
       "      <th>353</th>\n",
       "      <td>Televerde</td>\n",
       "      <td>Financials</td>\n",
       "      <td>3.8</td>\n",
       "      <td>3.636138</td>\n",
       "      <td>-0.163862</td>\n",
       "    </tr>\n",
       "    <tr>\n",
       "      <th>438</th>\n",
       "      <td>St. Jude Children's Research Hospital</td>\n",
       "      <td>Healthcare_NGO</td>\n",
       "      <td>4.5</td>\n",
       "      <td>4.294815</td>\n",
       "      <td>-0.205185</td>\n",
       "    </tr>\n",
       "    <tr>\n",
       "      <th>447</th>\n",
       "      <td>Safeguard Properties</td>\n",
       "      <td>Real_Estate</td>\n",
       "      <td>3.0</td>\n",
       "      <td>2.822636</td>\n",
       "      <td>-0.177364</td>\n",
       "    </tr>\n",
       "    <tr>\n",
       "      <th>539</th>\n",
       "      <td>Illinois Bone &amp; Joint Institute</td>\n",
       "      <td>Healthcare_NGO</td>\n",
       "      <td>3.5</td>\n",
       "      <td>3.344875</td>\n",
       "      <td>-0.155125</td>\n",
       "    </tr>\n",
       "  </tbody>\n",
       "</table>\n",
       "</div>"
      ],
      "text/plain": [
       "                                     Company Name        industry  real  \\\n",
       "9                                 Med-Scribe, Inc      Financials   4.6   \n",
       "44                                    Encore Wire     Commodities   3.4   \n",
       "76                                     Lamps Plus          Retail   3.5   \n",
       "125                                   ServiceLink      Financials   3.0   \n",
       "157                                Pressley Ridge   Govt_Services   3.3   \n",
       "188                                 The IMA Group  Healthcare_NGO   2.8   \n",
       "205                              Radio Flyer Inc.          Retail   4.8   \n",
       "222                      United Road Services Inc   Govt_Services   3.1   \n",
       "263                                        Hepaco      Financials   3.3   \n",
       "279                                 Car Spa, Inc.          Retail   3.4   \n",
       "285  Suncrest Hospice Home Health Palliative Care  Healthcare_NGO   4.5   \n",
       "353                                     Televerde      Financials   3.8   \n",
       "438         St. Jude Children's Research Hospital  Healthcare_NGO   4.5   \n",
       "447                          Safeguard Properties     Real_Estate   3.0   \n",
       "539               Illinois Bone & Joint Institute  Healthcare_NGO   3.5   \n",
       "\n",
       "      predict  difference  \n",
       "9    4.303947   -0.296053  \n",
       "44   3.244330   -0.155670  \n",
       "76   3.212750   -0.287250  \n",
       "125  2.818695   -0.181305  \n",
       "157  3.144382   -0.155618  \n",
       "188  2.623485   -0.176515  \n",
       "205  4.305319   -0.494681  \n",
       "222  2.938590   -0.161410  \n",
       "263  2.939744   -0.360256  \n",
       "279  3.230502   -0.169498  \n",
       "285  4.304243   -0.195757  \n",
       "353  3.636138   -0.163862  \n",
       "438  4.294815   -0.205185  \n",
       "447  2.822636   -0.177364  \n",
       "539  3.344875   -0.155125  "
      ]
     },
     "execution_count": 26,
     "metadata": {},
     "output_type": "execute_result"
    }
   ],
   "source": [
    "df_anomalies_L = df_anomalies[(df_anomalies['difference'] < LL)]\n",
    "df_anomalies_L"
   ]
  },
  {
   "cell_type": "code",
   "execution_count": 27,
   "id": "792168e5",
   "metadata": {},
   "outputs": [
    {
     "data": {
      "text/plain": [
       "<AxesSubplot:xlabel='count', ylabel='industry'>"
      ]
     },
     "execution_count": 27,
     "metadata": {},
     "output_type": "execute_result"
    },
    {
     "data": {
      "image/png": "[encoded data removed]",
      "text/plain": [
       "<Figure size 432x288 with 1 Axes>"
      ]
     },
     "metadata": {
      "needs_background": "light"
     },
     "output_type": "display_data"
    }
   ],
   "source": [
    "sb.set_context(\"notebook\")\n",
    "sb.countplot(y='industry', data=df_anomalies_L, order=df_anomalies_L['industry'].value_counts().index)"
   ]
  },
  {
   "cell_type": "code",
   "execution_count": 28,
   "id": "e83c1296",
   "metadata": {},
   "outputs": [
    {
     "data": {
      "text/html": [
       "<div>\n",
       "<style scoped>\n",
       "    .dataframe tbody tr th:only-of-type {\n",
       "        vertical-align: middle;\n",
       "    }\n",
       "\n",
       "    .dataframe tbody tr th {\n",
       "        vertical-align: top;\n",
       "    }\n",
       "\n",
       "    .dataframe thead th {\n",
       "        text-align: right;\n",
       "    }\n",
       "</style>\n",
       "<table border=\"1\" class=\"dataframe\">\n",
       "  <thead>\n",
       "    <tr style=\"text-align: right;\">\n",
       "      <th></th>\n",
       "      <th>Company Name</th>\n",
       "      <th>industry</th>\n",
       "      <th>real</th>\n",
       "      <th>predict</th>\n",
       "      <th>difference</th>\n",
       "    </tr>\n",
       "  </thead>\n",
       "  <tbody>\n",
       "    <tr>\n",
       "      <th>18</th>\n",
       "      <td>Enlivant</td>\n",
       "      <td>Healthcare_NGO</td>\n",
       "      <td>2.3</td>\n",
       "      <td>2.609773</td>\n",
       "      <td>0.309773</td>\n",
       "    </tr>\n",
       "    <tr>\n",
       "      <th>71</th>\n",
       "      <td>Primus Technologies</td>\n",
       "      <td>Govt_Services</td>\n",
       "      <td>3.5</td>\n",
       "      <td>3.774600</td>\n",
       "      <td>0.274600</td>\n",
       "    </tr>\n",
       "    <tr>\n",
       "      <th>181</th>\n",
       "      <td>BlueGrace Logistics</td>\n",
       "      <td>Govt_Services</td>\n",
       "      <td>2.8</td>\n",
       "      <td>3.073600</td>\n",
       "      <td>0.273600</td>\n",
       "    </tr>\n",
       "    <tr>\n",
       "      <th>189</th>\n",
       "      <td>CARVANA</td>\n",
       "      <td>Retail</td>\n",
       "      <td>2.7</td>\n",
       "      <td>2.904478</td>\n",
       "      <td>0.204478</td>\n",
       "    </tr>\n",
       "    <tr>\n",
       "      <th>241</th>\n",
       "      <td>Cantex Continuing Care Network</td>\n",
       "      <td>Healthcare_NGO</td>\n",
       "      <td>2.1</td>\n",
       "      <td>2.647904</td>\n",
       "      <td>0.547904</td>\n",
       "    </tr>\n",
       "    <tr>\n",
       "      <th>256</th>\n",
       "      <td>1-800 CONTACTS</td>\n",
       "      <td>Retail</td>\n",
       "      <td>3.6</td>\n",
       "      <td>3.808745</td>\n",
       "      <td>0.208745</td>\n",
       "    </tr>\n",
       "    <tr>\n",
       "      <th>276</th>\n",
       "      <td>Fuccillo Automotive Group</td>\n",
       "      <td>Retail</td>\n",
       "      <td>3.3</td>\n",
       "      <td>3.575499</td>\n",
       "      <td>0.275499</td>\n",
       "    </tr>\n",
       "    <tr>\n",
       "      <th>308</th>\n",
       "      <td>Legend Senior Living</td>\n",
       "      <td>Healthcare_NGO</td>\n",
       "      <td>2.3</td>\n",
       "      <td>2.621294</td>\n",
       "      <td>0.321294</td>\n",
       "    </tr>\n",
       "    <tr>\n",
       "      <th>354</th>\n",
       "      <td>Haven Behavioral Healthcare</td>\n",
       "      <td>Healthcare_NGO</td>\n",
       "      <td>2.2</td>\n",
       "      <td>2.606179</td>\n",
       "      <td>0.406179</td>\n",
       "    </tr>\n",
       "    <tr>\n",
       "      <th>402</th>\n",
       "      <td>Houzz</td>\n",
       "      <td>Tech</td>\n",
       "      <td>3.2</td>\n",
       "      <td>3.592216</td>\n",
       "      <td>0.392216</td>\n",
       "    </tr>\n",
       "    <tr>\n",
       "      <th>412</th>\n",
       "      <td>StoneMor Inc.</td>\n",
       "      <td>Retail</td>\n",
       "      <td>2.3</td>\n",
       "      <td>2.603204</td>\n",
       "      <td>0.303204</td>\n",
       "    </tr>\n",
       "    <tr>\n",
       "      <th>442</th>\n",
       "      <td>Solera</td>\n",
       "      <td>Tech</td>\n",
       "      <td>2.4</td>\n",
       "      <td>2.681032</td>\n",
       "      <td>0.281032</td>\n",
       "    </tr>\n",
       "    <tr>\n",
       "      <th>487</th>\n",
       "      <td>BALCHEM</td>\n",
       "      <td>Commodities</td>\n",
       "      <td>2.9</td>\n",
       "      <td>3.151701</td>\n",
       "      <td>0.251701</td>\n",
       "    </tr>\n",
       "    <tr>\n",
       "      <th>504</th>\n",
       "      <td>Acadia Healthcare</td>\n",
       "      <td>Healthcare_NGO</td>\n",
       "      <td>2.4</td>\n",
       "      <td>2.612240</td>\n",
       "      <td>0.212240</td>\n",
       "    </tr>\n",
       "    <tr>\n",
       "      <th>505</th>\n",
       "      <td>Saber Healthcare</td>\n",
       "      <td>Healthcare_NGO</td>\n",
       "      <td>2.4</td>\n",
       "      <td>2.601036</td>\n",
       "      <td>0.201036</td>\n",
       "    </tr>\n",
       "  </tbody>\n",
       "</table>\n",
       "</div>"
      ],
      "text/plain": [
       "                       Company Name        industry  real   predict  \\\n",
       "18                         Enlivant  Healthcare_NGO   2.3  2.609773   \n",
       "71              Primus Technologies   Govt_Services   3.5  3.774600   \n",
       "181             BlueGrace Logistics   Govt_Services   2.8  3.073600   \n",
       "189                         CARVANA          Retail   2.7  2.904478   \n",
       "241  Cantex Continuing Care Network  Healthcare_NGO   2.1  2.647904   \n",
       "256                  1-800 CONTACTS          Retail   3.6  3.808745   \n",
       "276       Fuccillo Automotive Group          Retail   3.3  3.575499   \n",
       "308            Legend Senior Living  Healthcare_NGO   2.3  2.621294   \n",
       "354     Haven Behavioral Healthcare  Healthcare_NGO   2.2  2.606179   \n",
       "402                           Houzz            Tech   3.2  3.592216   \n",
       "412                   StoneMor Inc.          Retail   2.3  2.603204   \n",
       "442                          Solera            Tech   2.4  2.681032   \n",
       "487                         BALCHEM     Commodities   2.9  3.151701   \n",
       "504               Acadia Healthcare  Healthcare_NGO   2.4  2.612240   \n",
       "505                Saber Healthcare  Healthcare_NGO   2.4  2.601036   \n",
       "\n",
       "     difference  \n",
       "18     0.309773  \n",
       "71     0.274600  \n",
       "181    0.273600  \n",
       "189    0.204478  \n",
       "241    0.547904  \n",
       "256    0.208745  \n",
       "276    0.275499  \n",
       "308    0.321294  \n",
       "354    0.406179  \n",
       "402    0.392216  \n",
       "412    0.303204  \n",
       "442    0.281032  \n",
       "487    0.251701  \n",
       "504    0.212240  \n",
       "505    0.201036  "
      ]
     },
     "execution_count": 28,
     "metadata": {},
     "output_type": "execute_result"
    }
   ],
   "source": [
    "df_anomalies_U = df_anomalies[(df_anomalies['difference'] > UL)]\n",
    "df_anomalies_U"
   ]
  },
  {
   "cell_type": "code",
   "execution_count": 29,
   "id": "d515e46a",
   "metadata": {},
   "outputs": [
    {
     "data": {
      "text/plain": [
       "<AxesSubplot:xlabel='count', ylabel='industry'>"
      ]
     },
     "execution_count": 29,
     "metadata": {},
     "output_type": "execute_result"
    },
    {
     "data": {
      "image/png": "[encoded data removed]",
      "text/plain": [
       "<Figure size 432x288 with 1 Axes>"
      ]
     },
     "metadata": {
      "needs_background": "light"
     },
     "output_type": "display_data"
    }
   ],
   "source": [
    "sb.set_context(\"notebook\")\n",
    "sb.countplot(y='industry', data=df_anomalies_U, order=df_anomalies_U['industry'].value_counts().index)"
   ]
  },
  {
   "cell_type": "code",
   "execution_count": null,
   "id": "2a450249",
   "metadata": {},
   "outputs": [],
   "source": []
  }
 ],
 "metadata": {
  "kernelspec": {
   "display_name": "Python 3 (ipykernel)",
   "language": "python",
   "name": "python3"
  },
  "language_info": {
   "codemirror_mode": {
    "name": "ipython",
    "version": 3
   },
   "file_extension": ".py",
   "mimetype": "text/x-python",
   "name": "python",
   "nbconvert_exporter": "python",
   "pygments_lexer": "ipython3",
   "version": "3.8.12"
  }
 },
 "nbformat": 4,
 "nbformat_minor": 5
}
