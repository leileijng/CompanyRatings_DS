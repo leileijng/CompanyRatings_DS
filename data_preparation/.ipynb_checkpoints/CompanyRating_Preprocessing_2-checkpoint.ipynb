{
 "cells": [
  {
   "cell_type": "markdown",
   "id": "e82328e6",
   "metadata": {},
   "source": [
    "# Pre-Processing : Data Preparation\n",
    "\n",
    "---\n",
    "Data preparation and cleaning to suit the identified problem\n",
    "\n",
    "### Essential Libraries\n",
    "\n",
    "> NumPy : Library for Numeric Computations in Python  \n",
    "> Pandas : Library for Data Acquisition and Preparation  \n",
    "> Matplotlib : Low-level library for Data Visualization  \n",
    "> Seaborn : Higher-level library for Data Visualization  "
   ]
  },
  {
   "cell_type": "code",
   "execution_count": 1,
   "id": "c24b2e8b",
   "metadata": {},
   "outputs": [],
   "source": [
    "# Basic Libraries\n",
    "import numpy as np\n",
    "import pandas as pd\n",
    "import seaborn as sb\n",
    "import matplotlib.pyplot as plt # we only need pyplot\n",
    "import pickle\n",
    "sb.set() # set the default Seaborn style for graphics"
   ]
  },
  {
   "cell_type": "markdown",
   "id": "9cdeaedc",
   "metadata": {},
   "source": [
    "---\n",
    "\n",
    "## Setup : Import the Dataset\n",
    "\n",
    "Dataset from Kaggle : `Company Reviews`\n",
    "Source: https://www.kaggle.com/datasets/vaghefi/company-reviews?datasetId=848918&sortBy=dateRun&tab=collaboration\n",
    "\n",
    "The dataset is `company_reviews.csv`; hence we use the `read_csv` function from Pandas.  "
   ]
  },
  {
   "cell_type": "code",
   "execution_count": 2,
   "id": "b8f97b4d",
   "metadata": {},
   "outputs": [
    {
     "name": "stdout",
     "output_type": "stream",
     "text": [
      "The raw dataset dimension :  (17050, 20)\n"
     ]
    },
    {
     "data": {
      "text/html": [
       "<div>\n",
       "<style scoped>\n",
       "    .dataframe tbody tr th:only-of-type {\n",
       "        vertical-align: middle;\n",
       "    }\n",
       "\n",
       "    .dataframe tbody tr th {\n",
       "        vertical-align: top;\n",
       "    }\n",
       "\n",
       "    .dataframe thead th {\n",
       "        text-align: right;\n",
       "    }\n",
       "</style>\n",
       "<table border=\"1\" class=\"dataframe\">\n",
       "  <thead>\n",
       "    <tr style=\"text-align: right;\">\n",
       "      <th></th>\n",
       "      <th>name</th>\n",
       "      <th>rating</th>\n",
       "      <th>reviews</th>\n",
       "      <th>description</th>\n",
       "      <th>happiness</th>\n",
       "      <th>ceo_approval</th>\n",
       "      <th>ceo_count</th>\n",
       "      <th>ratings</th>\n",
       "      <th>locations</th>\n",
       "      <th>roles</th>\n",
       "      <th>salary</th>\n",
       "      <th>interview_experience</th>\n",
       "      <th>interview_difficulty</th>\n",
       "      <th>interview_duration</th>\n",
       "      <th>interview_count</th>\n",
       "      <th>headquarters</th>\n",
       "      <th>employees</th>\n",
       "      <th>industry</th>\n",
       "      <th>revenue</th>\n",
       "      <th>website</th>\n",
       "    </tr>\n",
       "  </thead>\n",
       "  <tbody>\n",
       "    <tr>\n",
       "      <th>0</th>\n",
       "      <td>Sitel</td>\n",
       "      <td>NaN</td>\n",
       "      <td>NaN</td>\n",
       "      <td>Sitel Group’s 75,000 people across the globe c...</td>\n",
       "      <td>{'Work Happiness Score': '55', 'Achievement': ...</td>\n",
       "      <td>70%</td>\n",
       "      <td>CEO Approval is based on 4,612 ratings</td>\n",
       "      <td>{'Work/Life Balance': '3.4', 'Compensation/Ben...</td>\n",
       "      <td>{'Paradise, NV': '5.0', 'Pioneer, OH': '4.7', ...</td>\n",
       "      <td>{'Tier 1 Agent': '5.0', 'Director of Operation...</td>\n",
       "      <td>{'Customer Service Representative': '$14.48 pe...</td>\n",
       "      <td>Favorable</td>\n",
       "      <td>Easy</td>\n",
       "      <td>About a day or two</td>\n",
       "      <td>Based on 645 interviews</td>\n",
       "      <td>600 Brickell Ave Miami, FL 33131 Vereinigte St...</td>\n",
       "      <td>10,000+</td>\n",
       "      <td>Telecommunications</td>\n",
       "      <td>$1B to $5B (USD)</td>\n",
       "      <td>Twitter\\nFacebook\\nSitel website</td>\n",
       "    </tr>\n",
       "    <tr>\n",
       "      <th>1</th>\n",
       "      <td>Meadowbrook Rehabilitation</td>\n",
       "      <td>3.7</td>\n",
       "      <td>21 reviews</td>\n",
       "      <td>You'll work with the most experienced and loya...</td>\n",
       "      <td>{}</td>\n",
       "      <td>NaN</td>\n",
       "      <td>NaN</td>\n",
       "      <td>{'Work/Life Balance': '4.1', 'Compensation/Ben...</td>\n",
       "      <td>{}</td>\n",
       "      <td>{}</td>\n",
       "      <td>{}</td>\n",
       "      <td>Favorable</td>\n",
       "      <td>Easy</td>\n",
       "      <td>NaN</td>\n",
       "      <td>Based on 5 interviews</td>\n",
       "      <td>Illinois</td>\n",
       "      <td>NaN</td>\n",
       "      <td>Healthcare</td>\n",
       "      <td>NaN</td>\n",
       "      <td>Meadowbrook Rehabilitation website</td>\n",
       "    </tr>\n",
       "    <tr>\n",
       "      <th>2</th>\n",
       "      <td>Intermountain</td>\n",
       "      <td>4.0</td>\n",
       "      <td>23 reviews</td>\n",
       "      <td>Why Intermountain?\\n\\nWe Bring Hope\\n\\nWith ou...</td>\n",
       "      <td>{}</td>\n",
       "      <td>88%</td>\n",
       "      <td>CEO Approval is based on 17 ratings</td>\n",
       "      <td>{'Work/Life Balance': '3.5', 'Compensation/Ben...</td>\n",
       "      <td>{}</td>\n",
       "      <td>{}</td>\n",
       "      <td>{'Mental Health Technician': '$13.16 per hour'...</td>\n",
       "      <td>Favorable</td>\n",
       "      <td>Medium</td>\n",
       "      <td>About a day or two</td>\n",
       "      <td>Based on 8 interviews</td>\n",
       "      <td>Headquarters: 3240 Dredge Dr. Helena, MT 59602</td>\n",
       "      <td>201 to 500</td>\n",
       "      <td>Healthcare</td>\n",
       "      <td>$5M to $25M (USD)</td>\n",
       "      <td>Twitter\\nFacebook\\nIntermountain website</td>\n",
       "    </tr>\n",
       "    <tr>\n",
       "      <th>3</th>\n",
       "      <td>Smith &amp; Nephew</td>\n",
       "      <td>NaN</td>\n",
       "      <td>NaN</td>\n",
       "      <td>It's more than business at Smith+Nephew - it's...</td>\n",
       "      <td>{'Work Happiness Score': '65', 'Purpose': '71'...</td>\n",
       "      <td>76%</td>\n",
       "      <td>CEO Approval is based on 374 ratings</td>\n",
       "      <td>{'Work/Life Balance': '3.5', 'Compensation/Ben...</td>\n",
       "      <td>{'Largo, FL': '4.5', 'Chicago, IL': '4.3', 'Sa...</td>\n",
       "      <td>{'Packaging Technician': '5.0', 'Senior Associ...</td>\n",
       "      <td>{'Packager': '$30,006 per year', 'Finisher': '...</td>\n",
       "      <td>Favorable</td>\n",
       "      <td>Medium</td>\n",
       "      <td>About a week</td>\n",
       "      <td>Based on 116 interviews</td>\n",
       "      <td>Building 5, Croxley Park, Hatters Lane, Watfor...</td>\n",
       "      <td>10,000+</td>\n",
       "      <td>Healthcare</td>\n",
       "      <td>$1B to $5B (USD)</td>\n",
       "      <td>Twitter\\nFacebook\\nSmith &amp; Nephew website</td>\n",
       "    </tr>\n",
       "    <tr>\n",
       "      <th>4</th>\n",
       "      <td>Reverse Mortgage Funding</td>\n",
       "      <td>4.1</td>\n",
       "      <td>19 reviews</td>\n",
       "      <td>Reverse Mortgage Funding LLC is committed to e...</td>\n",
       "      <td>{}</td>\n",
       "      <td>NaN</td>\n",
       "      <td>NaN</td>\n",
       "      <td>{'Work/Life Balance': '4.2', 'Compensation/Ben...</td>\n",
       "      <td>{}</td>\n",
       "      <td>{}</td>\n",
       "      <td>{}</td>\n",
       "      <td>Favorable</td>\n",
       "      <td>NaN</td>\n",
       "      <td>NaN</td>\n",
       "      <td>Based on 5 interviews</td>\n",
       "      <td>Bloomfield</td>\n",
       "      <td>11 to 50</td>\n",
       "      <td>Financial Services</td>\n",
       "      <td>$5M to $25M (USD)</td>\n",
       "      <td>Reverse Mortgage Funding website</td>\n",
       "    </tr>\n",
       "  </tbody>\n",
       "</table>\n",
       "</div>"
      ],
      "text/plain": [
       "                         name  rating     reviews  \\\n",
       "0                       Sitel     NaN         NaN   \n",
       "1  Meadowbrook Rehabilitation     3.7  21 reviews   \n",
       "2               Intermountain     4.0  23 reviews   \n",
       "3              Smith & Nephew     NaN         NaN   \n",
       "4    Reverse Mortgage Funding     4.1  19 reviews   \n",
       "\n",
       "                                         description  \\\n",
       "0  Sitel Group’s 75,000 people across the globe c...   \n",
       "1  You'll work with the most experienced and loya...   \n",
       "2  Why Intermountain?\\n\\nWe Bring Hope\\n\\nWith ou...   \n",
       "3  It's more than business at Smith+Nephew - it's...   \n",
       "4  Reverse Mortgage Funding LLC is committed to e...   \n",
       "\n",
       "                                           happiness ceo_approval  \\\n",
       "0  {'Work Happiness Score': '55', 'Achievement': ...          70%   \n",
       "1                                                 {}          NaN   \n",
       "2                                                 {}          88%   \n",
       "3  {'Work Happiness Score': '65', 'Purpose': '71'...          76%   \n",
       "4                                                 {}          NaN   \n",
       "\n",
       "                                ceo_count  \\\n",
       "0  CEO Approval is based on 4,612 ratings   \n",
       "1                                     NaN   \n",
       "2     CEO Approval is based on 17 ratings   \n",
       "3    CEO Approval is based on 374 ratings   \n",
       "4                                     NaN   \n",
       "\n",
       "                                             ratings  \\\n",
       "0  {'Work/Life Balance': '3.4', 'Compensation/Ben...   \n",
       "1  {'Work/Life Balance': '4.1', 'Compensation/Ben...   \n",
       "2  {'Work/Life Balance': '3.5', 'Compensation/Ben...   \n",
       "3  {'Work/Life Balance': '3.5', 'Compensation/Ben...   \n",
       "4  {'Work/Life Balance': '4.2', 'Compensation/Ben...   \n",
       "\n",
       "                                           locations  \\\n",
       "0  {'Paradise, NV': '5.0', 'Pioneer, OH': '4.7', ...   \n",
       "1                                                 {}   \n",
       "2                                                 {}   \n",
       "3  {'Largo, FL': '4.5', 'Chicago, IL': '4.3', 'Sa...   \n",
       "4                                                 {}   \n",
       "\n",
       "                                               roles  \\\n",
       "0  {'Tier 1 Agent': '5.0', 'Director of Operation...   \n",
       "1                                                 {}   \n",
       "2                                                 {}   \n",
       "3  {'Packaging Technician': '5.0', 'Senior Associ...   \n",
       "4                                                 {}   \n",
       "\n",
       "                                              salary interview_experience  \\\n",
       "0  {'Customer Service Representative': '$14.48 pe...            Favorable   \n",
       "1                                                 {}            Favorable   \n",
       "2  {'Mental Health Technician': '$13.16 per hour'...            Favorable   \n",
       "3  {'Packager': '$30,006 per year', 'Finisher': '...            Favorable   \n",
       "4                                                 {}            Favorable   \n",
       "\n",
       "  interview_difficulty  interview_duration          interview_count  \\\n",
       "0                 Easy  About a day or two  Based on 645 interviews   \n",
       "1                 Easy                 NaN    Based on 5 interviews   \n",
       "2               Medium  About a day or two    Based on 8 interviews   \n",
       "3               Medium        About a week  Based on 116 interviews   \n",
       "4                  NaN                 NaN    Based on 5 interviews   \n",
       "\n",
       "                                        headquarters   employees  \\\n",
       "0  600 Brickell Ave Miami, FL 33131 Vereinigte St...     10,000+   \n",
       "1                                           Illinois         NaN   \n",
       "2     Headquarters: 3240 Dredge Dr. Helena, MT 59602  201 to 500   \n",
       "3  Building 5, Croxley Park, Hatters Lane, Watfor...     10,000+   \n",
       "4                                         Bloomfield    11 to 50   \n",
       "\n",
       "             industry            revenue  \\\n",
       "0  Telecommunications   $1B to $5B (USD)   \n",
       "1          Healthcare                NaN   \n",
       "2          Healthcare  $5M to $25M (USD)   \n",
       "3          Healthcare   $1B to $5B (USD)   \n",
       "4  Financial Services  $5M to $25M (USD)   \n",
       "\n",
       "                                     website  \n",
       "0           Twitter\\nFacebook\\nSitel website  \n",
       "1         Meadowbrook Rehabilitation website  \n",
       "2   Twitter\\nFacebook\\nIntermountain website  \n",
       "3  Twitter\\nFacebook\\nSmith & Nephew website  \n",
       "4           Reverse Mortgage Funding website  "
      ]
     },
     "execution_count": 2,
     "metadata": {},
     "output_type": "execute_result"
    }
   ],
   "source": [
    "rawData = pd.read_csv('../dataset/company_reviews.csv')\n",
    "print(\"The raw dataset dimension : \", rawData.shape) \n",
    "rawData.head()"
   ]
  },
  {
   "cell_type": "markdown",
   "id": "5f0e1174",
   "metadata": {},
   "source": [
    "---\n",
    "\n",
    "## Clean up data\n",
    "\n",
    "1. Drop rows with missing data\n",
    "2. Drop unnecessary columns\n",
    "3. Drop data lack of credibility \n",
    "    "
   ]
  },
  {
   "cell_type": "code",
   "execution_count": 3,
   "id": "24944ead",
   "metadata": {},
   "outputs": [
    {
     "data": {
      "text/plain": [
       "name                      338\n",
       "rating                   1434\n",
       "reviews                  1556\n",
       "description                 1\n",
       "happiness               12463\n",
       "ceo_approval             5828\n",
       "ceo_count                5828\n",
       "ratings                  1281\n",
       "locations                9922\n",
       "roles                    9922\n",
       "salary                   5427\n",
       "interview_experience     5551\n",
       "interview_difficulty     5588\n",
       "interview_duration       6728\n",
       "interview_count          5551\n",
       "headquarters             1820\n",
       "employees                2027\n",
       "industry                 1846\n",
       "revenue                  6873\n",
       "website                   921\n",
       "dtype: int64"
      ]
     },
     "execution_count": 3,
     "metadata": {},
     "output_type": "execute_result"
    }
   ],
   "source": [
    "data_clean1 = rawData.replace(to_replace = '{}', value=np.nan)\n",
    "data_clean1.isnull().sum()"
   ]
  },
  {
   "cell_type": "markdown",
   "id": "6e508ba9",
   "metadata": {},
   "source": [
    "----\n",
    "### Step 1: Drop Rows (selected) with Missing Values\n",
    "We will delete the rows without rating (predictor)<br>\n",
    "Then, we drop the rows without the values for potential features to be used in prediction\n",
    "- ratings (including specific ratings of multiple perspectives, i.e. work-life balance)\n",
    "- reviews (drop rows without reviews to ensure data credibility)\n",
    "- industry (the ratings will be predicted with regard to the industry)\n",
    "- employees (information is defective)\n",
    "- revenue (information is defective)"
   ]
  },
  {
   "cell_type": "code",
   "execution_count": 4,
   "id": "9263668c",
   "metadata": {},
   "outputs": [
    {
     "name": "stdout",
     "output_type": "stream",
     "text": [
      "The dataset dimension after dropping rows (selectd) with missing values :  (8716, 20)\n"
     ]
    }
   ],
   "source": [
    "data_clean1 = data_clean1.dropna(subset = ['rating', 'ratings', 'reviews', 'industry', 'employees','revenue'])\n",
    "print(\"The dataset dimension after dropping rows (selectd) with missing values : \", data_clean1.shape)\n"
   ]
  },
  {
   "cell_type": "markdown",
   "id": "446a87f0",
   "metadata": {},
   "source": [
    "----\n",
    "### Step 2: Drop Unnecessary Columns\n",
    "We will drop columns that not to be used for prediction<br>\n",
    "- company name\n",
    "- description\n",
    "- locations\n",
    "- interview_experience\n",
    "- interview_difficulty\n",
    "- interview_duration\n",
    "- interview_count\n",
    "- headquarters\n",
    "- website"
   ]
  },
  {
   "cell_type": "code",
   "execution_count": 5,
   "id": "c7720c91",
   "metadata": {},
   "outputs": [
    {
     "name": "stdout",
     "output_type": "stream",
     "text": [
      "The dataset dimension after dropping unnecessary cloumns :  (8716, 11)\n"
     ]
    }
   ],
   "source": [
    "data_clean2 = data_clean1.drop(['name', 'description','locations','interview_experience','interview_difficulty', 'interview_duration',\n",
    "       'interview_count','headquarters','website',], axis=1)\n",
    "print(\"The dataset dimension after dropping unnecessary cloumns : \", data_clean2.shape) \n"
   ]
  },
  {
   "cell_type": "markdown",
   "id": "b3b84066",
   "metadata": {},
   "source": [
    "----\n",
    "### Step 3: Drop Data Lack of Credibility\n",
    "We will drop company record that only has a few reviews records to ensure the credibility\n",
    "> Inspecting the reviews columns, the median reviews received is `60`, and the 1st quartile is `20`, we will delete the records in 1st quartile as the ratings are not reflected by enough people."
   ]
  },
  {
   "cell_type": "code",
   "execution_count": 6,
   "id": "818e5124",
   "metadata": {},
   "outputs": [
    {
     "data": {
      "text/plain": [
       "count      8716.000000\n",
       "mean        725.487494\n",
       "std        4007.680596\n",
       "min           2.000000\n",
       "25%          34.000000\n",
       "50%         102.000000\n",
       "75%         366.000000\n",
       "max      215500.000000\n",
       "Name: reviews, dtype: float64"
      ]
     },
     "execution_count": 6,
     "metadata": {},
     "output_type": "execute_result"
    }
   ],
   "source": [
    "data_clean2['reviews'] = data_clean2['reviews'].replace([' reviews', 'reviews'], '', regex=True)\n",
    "data_clean2['reviews'] = data_clean2['reviews'].replace({'K': '*1e3'}, regex=True).map(pd.eval).astype(int)\n",
    "data_clean2['reviews'] = pd.to_numeric(data_clean2['reviews'])\n",
    "data_clean2['reviews'].describe()"
   ]
  },
  {
   "cell_type": "code",
   "execution_count": 7,
   "id": "8622e179",
   "metadata": {},
   "outputs": [
    {
     "name": "stdout",
     "output_type": "stream",
     "text": [
      "The dataset dimension after dropping data lack of credibility :  (6476, 11)\n"
     ]
    }
   ],
   "source": [
    "data_clean3 = data_clean2.drop(data_clean2[data_clean2.reviews <= 34].index)\n",
    "print(\"The dataset dimension after dropping data lack of credibility : \", data_clean3.shape) \n"
   ]
  },
  {
   "cell_type": "markdown",
   "id": "810b63e6",
   "metadata": {},
   "source": [
    "---\n",
    "\n",
    "## Prepare Data\n",
    "#### Step 1: Split data in column `ratings` to individual columns\n",
    "- Work/Life Balance\n",
    "- Compensation/Benefits\n",
    "- Job Security/Advancement\n",
    "- Management\n",
    "- Culture"
   ]
  },
  {
   "cell_type": "code",
   "execution_count": 8,
   "id": "f1dcd475",
   "metadata": {},
   "outputs": [
    {
     "data": {
      "text/html": [
       "<div>\n",
       "<style scoped>\n",
       "    .dataframe tbody tr th:only-of-type {\n",
       "        vertical-align: middle;\n",
       "    }\n",
       "\n",
       "    .dataframe tbody tr th {\n",
       "        vertical-align: top;\n",
       "    }\n",
       "\n",
       "    .dataframe thead th {\n",
       "        text-align: right;\n",
       "    }\n",
       "</style>\n",
       "<table border=\"1\" class=\"dataframe\">\n",
       "  <thead>\n",
       "    <tr style=\"text-align: right;\">\n",
       "      <th></th>\n",
       "      <th>rating</th>\n",
       "      <th>reviews</th>\n",
       "      <th>happiness</th>\n",
       "      <th>ceo_approval</th>\n",
       "      <th>ceo_count</th>\n",
       "      <th>roles</th>\n",
       "      <th>salary</th>\n",
       "      <th>employees</th>\n",
       "      <th>industry</th>\n",
       "      <th>revenue</th>\n",
       "      <th>Work/Life Balance</th>\n",
       "      <th>Compensation/Benefits</th>\n",
       "      <th>Job Security/Advancement</th>\n",
       "      <th>Management</th>\n",
       "      <th>Culture</th>\n",
       "    </tr>\n",
       "  </thead>\n",
       "  <tbody>\n",
       "    <tr>\n",
       "      <th>5</th>\n",
       "      <td>3.4</td>\n",
       "      <td>437</td>\n",
       "      <td>NaN</td>\n",
       "      <td>57%</td>\n",
       "      <td>CEO Approval is based on 199 ratings</td>\n",
       "      <td>{'Workday HCM Consultant': '5.0', 'Software Te...</td>\n",
       "      <td>{'Customer Service Representative': '$29.97 pe...</td>\n",
       "      <td>5,001 to 10,000</td>\n",
       "      <td>Manufacturing</td>\n",
       "      <td>$1B to $5B (USD)</td>\n",
       "      <td>3.4</td>\n",
       "      <td>3.5</td>\n",
       "      <td>2.8</td>\n",
       "      <td>2.9</td>\n",
       "      <td>3.2</td>\n",
       "    </tr>\n",
       "    <tr>\n",
       "      <th>7</th>\n",
       "      <td>3.5</td>\n",
       "      <td>367</td>\n",
       "      <td>NaN</td>\n",
       "      <td>78%</td>\n",
       "      <td>CEO Approval is based on 167 ratings</td>\n",
       "      <td>{'Claims Examiner': '4.7', 'Office Assistant':...</td>\n",
       "      <td>{'Insurance Agent': '$48,284 per year', 'Agent...</td>\n",
       "      <td>1,001 to 5,000</td>\n",
       "      <td>Insurance</td>\n",
       "      <td>$1B to $5B (USD)</td>\n",
       "      <td>3.7</td>\n",
       "      <td>3.3</td>\n",
       "      <td>3.2</td>\n",
       "      <td>3.1</td>\n",
       "      <td>3.3</td>\n",
       "    </tr>\n",
       "    <tr>\n",
       "      <th>9</th>\n",
       "      <td>4.2</td>\n",
       "      <td>803</td>\n",
       "      <td>{'Work Happiness Score': '76', 'Appreciation':...</td>\n",
       "      <td>83%</td>\n",
       "      <td>CEO Approval is based on 275 ratings</td>\n",
       "      <td>{'Mentor': '5.0', 'Intern': '5.0', 'Security C...</td>\n",
       "      <td>{'Graduate Researcher': '$26,598 per year', 'R...</td>\n",
       "      <td>5,001 to 10,000</td>\n",
       "      <td>Education</td>\n",
       "      <td>$1B to $5B (USD)</td>\n",
       "      <td>4.0</td>\n",
       "      <td>3.7</td>\n",
       "      <td>3.6</td>\n",
       "      <td>3.7</td>\n",
       "      <td>4.0</td>\n",
       "    </tr>\n",
       "    <tr>\n",
       "      <th>16</th>\n",
       "      <td>4.1</td>\n",
       "      <td>501</td>\n",
       "      <td>{'Work Happiness Score': '70', 'Learning': '81...</td>\n",
       "      <td>89%</td>\n",
       "      <td>CEO Approval is based on 181 ratings</td>\n",
       "      <td>NaN</td>\n",
       "      <td>{'Program Coordinator': '$48,016 per year', 'R...</td>\n",
       "      <td>5,001 to 10,000</td>\n",
       "      <td>Education</td>\n",
       "      <td>$1B to $5B (USD)</td>\n",
       "      <td>4.1</td>\n",
       "      <td>3.8</td>\n",
       "      <td>3.7</td>\n",
       "      <td>3.7</td>\n",
       "      <td>3.9</td>\n",
       "    </tr>\n",
       "    <tr>\n",
       "      <th>17</th>\n",
       "      <td>4.0</td>\n",
       "      <td>183</td>\n",
       "      <td>NaN</td>\n",
       "      <td>76%</td>\n",
       "      <td>CEO Approval is based on 84 ratings</td>\n",
       "      <td>{'Laboratory Assistant': '5.0', 'Senior Resear...</td>\n",
       "      <td>NaN</td>\n",
       "      <td>5,001 to 10,000</td>\n",
       "      <td>Manufacturing</td>\n",
       "      <td>more than $10B (USD)</td>\n",
       "      <td>4.0</td>\n",
       "      <td>3.7</td>\n",
       "      <td>3.4</td>\n",
       "      <td>3.6</td>\n",
       "      <td>3.9</td>\n",
       "    </tr>\n",
       "  </tbody>\n",
       "</table>\n",
       "</div>"
      ],
      "text/plain": [
       "    rating  reviews                                          happiness  \\\n",
       "5      3.4      437                                                NaN   \n",
       "7      3.5      367                                                NaN   \n",
       "9      4.2      803  {'Work Happiness Score': '76', 'Appreciation':...   \n",
       "16     4.1      501  {'Work Happiness Score': '70', 'Learning': '81...   \n",
       "17     4.0      183                                                NaN   \n",
       "\n",
       "   ceo_approval                             ceo_count  \\\n",
       "5           57%  CEO Approval is based on 199 ratings   \n",
       "7           78%  CEO Approval is based on 167 ratings   \n",
       "9           83%  CEO Approval is based on 275 ratings   \n",
       "16          89%  CEO Approval is based on 181 ratings   \n",
       "17          76%   CEO Approval is based on 84 ratings   \n",
       "\n",
       "                                                roles  \\\n",
       "5   {'Workday HCM Consultant': '5.0', 'Software Te...   \n",
       "7   {'Claims Examiner': '4.7', 'Office Assistant':...   \n",
       "9   {'Mentor': '5.0', 'Intern': '5.0', 'Security C...   \n",
       "16                                                NaN   \n",
       "17  {'Laboratory Assistant': '5.0', 'Senior Resear...   \n",
       "\n",
       "                                               salary        employees  \\\n",
       "5   {'Customer Service Representative': '$29.97 pe...  5,001 to 10,000   \n",
       "7   {'Insurance Agent': '$48,284 per year', 'Agent...   1,001 to 5,000   \n",
       "9   {'Graduate Researcher': '$26,598 per year', 'R...  5,001 to 10,000   \n",
       "16  {'Program Coordinator': '$48,016 per year', 'R...  5,001 to 10,000   \n",
       "17                                                NaN  5,001 to 10,000   \n",
       "\n",
       "         industry               revenue Work/Life Balance  \\\n",
       "5   Manufacturing      $1B to $5B (USD)               3.4   \n",
       "7       Insurance      $1B to $5B (USD)               3.7   \n",
       "9       Education      $1B to $5B (USD)               4.0   \n",
       "16      Education      $1B to $5B (USD)               4.1   \n",
       "17  Manufacturing  more than $10B (USD)               4.0   \n",
       "\n",
       "   Compensation/Benefits Job Security/Advancement Management Culture  \n",
       "5                    3.5                      2.8        2.9     3.2  \n",
       "7                    3.3                      3.2        3.1     3.3  \n",
       "9                    3.7                      3.6        3.7     4.0  \n",
       "16                   3.8                      3.7        3.7     3.9  \n",
       "17                   3.7                      3.4        3.6     3.9  "
      ]
     },
     "execution_count": 8,
     "metadata": {},
     "output_type": "execute_result"
    }
   ],
   "source": [
    "df = data_clean3\n",
    "df[\"ratings\"] = df[\"ratings\"].apply(lambda x : dict(eval(x)) )\n",
    "df1 = df[\"ratings\"].apply(pd.Series)\n",
    "\n",
    "data_prepare1 = pd.concat([df, df1], axis=1).drop('ratings', axis=1)\n",
    "data_prepare1.head()"
   ]
  },
  {
   "cell_type": "markdown",
   "id": "cba01a0f",
   "metadata": {},
   "source": [
    "#### Step 2: Deal with Datatype of Each Column\n",
    "- ceo_count (int64)\n",
    "- ceo_approval (int64)\n",
    "- employees (categorical)\n",
    "- revenue (categorical)"
   ]
  },
  {
   "cell_type": "code",
   "execution_count": 9,
   "id": "265cfa07",
   "metadata": {},
   "outputs": [
    {
     "name": "stdout",
     "output_type": "stream",
     "text": [
      "<class 'pandas.core.frame.DataFrame'>\n",
      "Int64Index: 6476 entries, 5 to 17048\n",
      "Data columns (total 15 columns):\n",
      " #   Column                    Non-Null Count  Dtype  \n",
      "---  ------                    --------------  -----  \n",
      " 0   rating                    6476 non-null   float64\n",
      " 1   reviews                   6476 non-null   int32  \n",
      " 2   happiness                 3117 non-null   object \n",
      " 3   ceo_approval              6443 non-null   object \n",
      " 4   ceo_count                 6443 non-null   object \n",
      " 5   roles                     4892 non-null   object \n",
      " 6   salary                    5662 non-null   object \n",
      " 7   employees                 6476 non-null   object \n",
      " 8   industry                  6476 non-null   object \n",
      " 9   revenue                   6476 non-null   object \n",
      " 10  Work/Life Balance         6476 non-null   object \n",
      " 11  Compensation/Benefits     6476 non-null   object \n",
      " 12  Job Security/Advancement  6476 non-null   object \n",
      " 13  Management                6476 non-null   object \n",
      " 14  Culture                   6476 non-null   object \n",
      "dtypes: float64(1), int32(1), object(13)\n",
      "memory usage: 784.2+ KB\n"
     ]
    }
   ],
   "source": [
    "data_prepare1.info()"
   ]
  },
  {
   "cell_type": "markdown",
   "id": "3c630994",
   "metadata": {},
   "source": [
    "---\n",
    "##### Handle `ceo_count`\n",
    "- substract numeric data as integer\n",
    "- handle NaN data "
   ]
  },
  {
   "cell_type": "code",
   "execution_count": 10,
   "id": "3b3319de",
   "metadata": {},
   "outputs": [
    {
     "data": {
      "text/plain": [
       "5        199\n",
       "7        167\n",
       "9        275\n",
       "16       181\n",
       "17        84\n",
       "        ... \n",
       "17035     63\n",
       "17041    121\n",
       "17042    485\n",
       "17044    131\n",
       "17048     33\n",
       "Name: ceo_count, Length: 6476, dtype: int64"
      ]
     },
     "execution_count": 10,
     "metadata": {},
     "output_type": "execute_result"
    }
   ],
   "source": [
    "data_prepare1['ceo_count'] = data_prepare1['ceo_count'].replace([np.nan], '0', regex=True)\n",
    "data_prepare1['ceo_count'] = data_prepare1['ceo_count'].replace(['CEO Approval is based on ', ' ratings', ','], '', regex=True)\n",
    "data_prepare1['ceo_count'] = pd.to_numeric(data_prepare1['ceo_count'])\n",
    "data_prepare1['ceo_count'] "
   ]
  },
  {
   "cell_type": "markdown",
   "id": "b4487d12",
   "metadata": {},
   "source": [
    "---\n",
    "##### Handle `ceo_approval`\n",
    "- convert percentage to int64\n",
    "- handle NaN data by replacing it with mean\n"
   ]
  },
  {
   "cell_type": "code",
   "execution_count": 11,
   "id": "cdb3c2b7",
   "metadata": {},
   "outputs": [
    {
     "name": "stdout",
     "output_type": "stream",
     "text": [
      "The mean of ceo approval is 74.25473456515891\n"
     ]
    }
   ],
   "source": [
    "data_prepare1['ceo_approval'] = data_prepare1['ceo_approval'].replace([np.nan], '0', regex=True)\n",
    "data_prepare1['ceo_approval'] = data_prepare1['ceo_approval'].replace(['%'], '', regex=True)\n",
    "data_prepare1['ceo_approval'] = pd.to_numeric(data_prepare1['ceo_approval'])\n",
    "\n",
    "ceo_approval_mean = sum(data_prepare1['ceo_approval'] * data_prepare1['ceo_count']) / sum(data_prepare1['ceo_count'])\n",
    "print(\"The mean of ceo approval is\", ceo_approval_mean)"
   ]
  },
  {
   "cell_type": "code",
   "execution_count": 12,
   "id": "34aaa719",
   "metadata": {},
   "outputs": [
    {
     "data": {
      "text/plain": [
       "5        57\n",
       "7        78\n",
       "9        83\n",
       "16       89\n",
       "17       76\n",
       "         ..\n",
       "17035    65\n",
       "17041    44\n",
       "17042    87\n",
       "17044    58\n",
       "17048    88\n",
       "Name: ceo_approval, Length: 6476, dtype: int64"
      ]
     },
     "execution_count": 12,
     "metadata": {},
     "output_type": "execute_result"
    }
   ],
   "source": [
    "data_prepare1['ceo_approval'] = data_prepare1['ceo_approval'].replace(['0'], int(ceo_approval_mean), regex=False)\n",
    "data_prepare1['ceo_approval'] "
   ]
  },
  {
   "cell_type": "markdown",
   "id": "a3b3d6aa",
   "metadata": {},
   "source": [
    "---\n",
    "##### Handle `employees`\n",
    "- relabel the categorical data\n",
    "| Label  |Description       | Count       |    \n",
    "| :---                | :---: | :----: |       \n",
    "| 1   |  1             |    6    |            \n",
    "| 2   |  2 to 10       |   66    |   \n",
    "| 3   |  11 to 50      |   101   |       \n",
    "| 4   |  51 to 200     |   365   |       \n",
    "| 5   | 201 to 500     |   755   |       \n",
    "| 6   | 501 to 1,000   |   954   |       \n",
    "| 7   |1,001 to 5,000  |   2135  |       \n",
    "| 8   |5,001 to 10,000 |   734   | \n",
    "| 9   |  10,000+       |   1360  | "
   ]
  },
  {
   "cell_type": "code",
   "execution_count": 13,
   "id": "090d5501",
   "metadata": {},
   "outputs": [
    {
     "data": {
      "text/plain": [
       "array(['5,001 to 10,000', '1,001 to 5,000', '201 to 500', '10,000+',\n",
       "       '501 to 1,000', '51 to 200', '11 to 50', '2 to 10', '1'],\n",
       "      dtype=object)"
      ]
     },
     "execution_count": 13,
     "metadata": {},
     "output_type": "execute_result"
    }
   ],
   "source": [
    "pd.unique(data_prepare1['employees'])"
   ]
  },
  {
   "cell_type": "code",
   "execution_count": 14,
   "id": "e6144712",
   "metadata": {},
   "outputs": [
    {
     "data": {
      "text/plain": [
       "1       6\n",
       "2      66\n",
       "3     101\n",
       "4     365\n",
       "5     755\n",
       "6     954\n",
       "7    2135\n",
       "8     734\n",
       "9    1360\n",
       "Name: employees, dtype: int64"
      ]
     },
     "execution_count": 14,
     "metadata": {},
     "output_type": "execute_result"
    },
    {
     "data": {
      "image/png": "[encoded data removed]",
      "text/plain": [
       "<Figure size 360x360 with 1 Axes>"
      ]
     },
     "metadata": {},
     "output_type": "display_data"
    }
   ],
   "source": [
    "employees_mapper = {\"1\":1, \n",
    "                    \"2 to 10\":2, \n",
    "                    \"11 to 50\":3, \n",
    "                    \"51 to 200\":4,\n",
    "                    \"201 to 500\":5,\n",
    "                    \"501 to 1,000\":6,\n",
    "                    \"1,001 to 5,000\":7, \n",
    "                    \"5,001 to 10,000\":8, \n",
    "                    \"10,000+\":9}\n",
    "data_prepare1['employees']=data_prepare1['employees'].replace(employees_mapper)\n",
    "sb.catplot(y = 'employees', data = data_prepare1, kind = \"count\")\n",
    "data_prepare1['employees'].value_counts().sort_index()\n"
   ]
  },
  {
   "cell_type": "markdown",
   "id": "3bbd240c",
   "metadata": {},
   "source": [
    "---\n",
    "##### Handle `revenue`\n",
    "- relabel the categorical data\n",
    "\n",
    "| Label  |Description       | Count       |    \n",
    "| :---                | :------: | :--------: |    \n",
    "| 1   |  less than 1M (USD)  |    233 |            \n",
    "| 2   |  1 to 5M (USD)      |    298 |   \n",
    "| 3   |  5M to 25M (USD)    |    667 |       \n",
    "| 4   |  25M to 100M (USD) |    1127|       \n",
    "| 5   |  100M to 500M (USD) |   1541 |       \n",
    "| 6   |  500M to 1B (USD)   |   626  |       \n",
    "| 7   |  1B to 5B (USD)     |   1169 |       \n",
    "| 8   |  5B to 10B (USD)    |   306  | \n",
    "| 9   |  more than 10B (USD) |   509  | "
   ]
  },
  {
   "cell_type": "code",
   "execution_count": 15,
   "id": "2d834e0c",
   "metadata": {},
   "outputs": [
    {
     "data": {
      "text/plain": [
       "array(['$1B to $5B (USD)', 'more than $10B (USD)', '$100M to $500M (USD)',\n",
       "       '$500M to $1B (USD)', '$5B to $10B (USD)', '$25M to $100M (USD)',\n",
       "       '$5M to $25M (USD)', '$1M to $5M (USD)', 'less than $1M (USD)'],\n",
       "      dtype=object)"
      ]
     },
     "execution_count": 15,
     "metadata": {},
     "output_type": "execute_result"
    }
   ],
   "source": [
    "pd.unique(data_prepare1['revenue'])"
   ]
  },
  {
   "cell_type": "code",
   "execution_count": 16,
   "id": "18560961",
   "metadata": {},
   "outputs": [
    {
     "data": {
      "text/plain": [
       "1     233\n",
       "2     298\n",
       "3     667\n",
       "4    1127\n",
       "5    1541\n",
       "6     626\n",
       "7    1169\n",
       "8     306\n",
       "9     509\n",
       "Name: revenue, dtype: int64"
      ]
     },
     "execution_count": 16,
     "metadata": {},
     "output_type": "execute_result"
    },
    {
     "data": {
      "image/png": "[encoded data removed]",
      "text/plain": [
       "<Figure size 360x360 with 1 Axes>"
      ]
     },
     "metadata": {},
     "output_type": "display_data"
    }
   ],
   "source": [
    "revenue_mapper = {\"less than $1M (USD)\":1, \n",
    "                    \"$1M to $5M (USD)\":2, \n",
    "                    \"$5M to $25M (USD)\":3, \n",
    "                    \"$25M to $100M (USD)\":4,\n",
    "                    \"$100M to $500M (USD)\":5,\n",
    "                    \"$500M to $1B (USD)\":6,\n",
    "                    \"$1B to $5B (USD)\":7, \n",
    "                    \"$5B to $10B (USD)\":8, \n",
    "                    \"more than $10B (USD)\":9}\n",
    "\n",
    "data_prepare1['revenue']=data_prepare1['revenue'].replace(revenue_mapper)\n",
    "sb.catplot(y = 'revenue', data = data_prepare1, kind = \"count\")\n",
    "data_prepare1['revenue'].value_counts().sort_index()\n"
   ]
  },
  {
   "cell_type": "markdown",
   "id": "28f77714",
   "metadata": {},
   "source": [
    "## Export processed data to excel and pickle"
   ]
  },
  {
   "cell_type": "code",
   "execution_count": 20,
   "id": "5cd18aed",
   "metadata": {},
   "outputs": [],
   "source": [
    "data_prepare1.to_excel(\"../dataset/data_prepare1.xlsx\")\n",
    "with open('../dataset/data_prepare1.pickle', 'wb') as f:\n",
    "    pickle.dump(data_prepare1, f)"
   ]
  },
  {
   "cell_type": "markdown",
   "id": "a9bb195e",
   "metadata": {},
   "source": [
    "## Drop rows without happiness data\n",
    "\n",
    "Write to excel and pickle"
   ]
  },
  {
   "cell_type": "code",
   "execution_count": 21,
   "id": "60583c09",
   "metadata": {},
   "outputs": [
    {
     "name": "stdout",
     "output_type": "stream",
     "text": [
      "<class 'pandas.core.frame.DataFrame'>\n",
      "Int64Index: 3117 entries, 9 to 17042\n",
      "Data columns (total 15 columns):\n",
      " #   Column                    Non-Null Count  Dtype  \n",
      "---  ------                    --------------  -----  \n",
      " 0   rating                    3117 non-null   float64\n",
      " 1   reviews                   3117 non-null   int32  \n",
      " 2   happiness                 3117 non-null   object \n",
      " 3   ceo_approval              3117 non-null   int64  \n",
      " 4   ceo_count                 3117 non-null   int64  \n",
      " 5   roles                     2753 non-null   object \n",
      " 6   salary                    2969 non-null   object \n",
      " 7   employees                 3117 non-null   int64  \n",
      " 8   industry                  3117 non-null   object \n",
      " 9   revenue                   3117 non-null   int64  \n",
      " 10  Work/Life Balance         3117 non-null   object \n",
      " 11  Compensation/Benefits     3117 non-null   object \n",
      " 12  Job Security/Advancement  3117 non-null   object \n",
      " 13  Management                3117 non-null   object \n",
      " 14  Culture                   3117 non-null   object \n",
      "dtypes: float64(1), int32(1), int64(4), object(9)\n",
      "memory usage: 377.4+ KB\n"
     ]
    }
   ],
   "source": [
    "data_prepare2 = data_prepare1.dropna(subset = ['happiness'])\n",
    "data_prepare2.info()"
   ]
  },
  {
   "cell_type": "code",
   "execution_count": 22,
   "id": "0a4eff67",
   "metadata": {},
   "outputs": [],
   "source": [
    "data_prepare2.to_excel(\"../dataset/data_prepare2.xlsx\")\n",
    "with open('../dataset/data_prepare2.pickle', 'wb') as f:\n",
    "    pickle.dump(data_prepare1, f)"
   ]
  },
  {
   "cell_type": "code",
   "execution_count": null,
   "id": "240bb757",
   "metadata": {},
   "outputs": [],
   "source": []
  },
  {
   "cell_type": "code",
   "execution_count": null,
   "id": "193c3921",
   "metadata": {},
   "outputs": [],
   "source": []
  }
 ],
 "metadata": {
  "kernelspec": {
   "display_name": "Python 3 (ipykernel)",
   "language": "python",
   "name": "python3"
  },
  "language_info": {
   "codemirror_mode": {
    "name": "ipython",
    "version": 3
   },
   "file_extension": ".py",
   "mimetype": "text/x-python",
   "name": "python",
   "nbconvert_exporter": "python",
   "pygments_lexer": "ipython3",
   "version": "3.8.12"
  }
 },
 "nbformat": 4,
 "nbformat_minor": 5
}
